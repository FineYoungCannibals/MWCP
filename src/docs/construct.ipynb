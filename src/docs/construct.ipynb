{
 "cells": [
  {
   "cell_type": "markdown",
   "metadata": {},
   "source": [
    "# Using Construct\n",
    "\n",
    "The [construct](https://construct.readthedocs.io) library has replaced the previously used [enstructured](http://github.com/Defense-Cyber-Crime-Center/DC3-MWCP/blob/fe38f8eacc99dfce5b9fb4bf6fa0b63a697529dd/mwcp/resoures/enstructured.md) library for parsing binary data. It supports all the abilities of enstructured, but expands upon it by adding support such as validation, more advanced types, easy extending, and a cleaner syntax.\n",
    "\n",
    "This tutorial is designed to get you familiar with the basic functionality of construct and how to translate your knowledge of enstructured into construct. It does not attempt to completely cover all the uses for construct. For a more in-depth information, I highly recommend reading the documentation found at [construct.readthedocs.io](construct.readthedocs.io)."
   ]
  },
  {
   "cell_type": "markdown",
   "metadata": {},
   "source": [
    "## TOC\n",
    "- [Importing](#importing)\n",
    "- [Parsing](#parsing)\n",
    "- [Structs](#structs)\n",
    "- [Integers](#integers)\n",
    "- [Bytes](#bytes)\n",
    "- [Strings](#strings)\n",
    "- [Offsetting and Skipping](#offsetting-and-skipping)\n",
    "- [SkipNull](#skipnull)\n",
    "- [Subfields](#subfields)\n",
    "- [Dynamic Parameters](#dynamic-parameters)\n",
    "- [Formatting Values](#formatting-values)\n",
    "- [Enums](#enums)\n",
    "- [Switches](#switches)\n",
    "- [Ranges (lists)](#ranges-\\(lists\\))\n",
    "- [Computed Values](#computed-values)\n",
    "- [Delimited](#delimited)\n",
    "- [PE Physical Address](#pe-physical-address)\n",
    "- [PE Physical Address 64-bit](#pe-phyiscal-address-64-bit)\n",
    "- [Regular Expressions](#regular-expressions)\n",
    "- [HTML Documentation](#html-documentation)\n",
    "- [Building](#building)\n",
    "- [Validation](#validation)\n",
    "- [Debugging](#debugging)"
   ]
  },
  {
   "cell_type": "markdown",
   "metadata": {},
   "source": [
    "## Importing\n",
    "\n",
    "Along with the standard construct library, DC3-MWCP provides some extra helper utilities found in the `mwcp.utils.construct`. When you import by doing `from mwcp.utils import construct` you will get everything that the construct library includes, plus extra helper functions and types that have been developed specifically for parsing malware.\n",
    "\n",
    "*For the rest of this documentation, you can assume the following was used to import.*"
   ]
  },
  {
   "cell_type": "code",
   "execution_count": 2,
   "metadata": {},
   "outputs": [],
   "source": [
    "from mwcp.utils import construct\n",
    "from mwcp.resources import enstructured  # This library has been deprecated and will be remove on next release."
   ]
  },
  {
   "cell_type": "markdown",
   "metadata": {},
   "source": [
    "##  Parsing\n",
    "\n",
    "Every element in construct has a \"parse()\" function that will take data and return the parsed results for that data."
   ]
  },
  {
   "cell_type": "code",
   "execution_count": 3,
   "metadata": {},
   "outputs": [
    {
     "data": {
      "text/plain": [
       "{'member0': {'formatted_value': 1,\n  'ignore': False,\n  'index': 0,\n  'length': 4,\n  'location': 0,\n  'offset': 0,\n  'type': 'uint32',\n  'value': 1}}"
      ]
     },
     "execution_count": 2,
     "metadata": {},
     "output_type": "execute_result"
    }
   ],
   "source": [
    "spec = [[enstructured.DWORD]]\n",
    "\n",
    "enstructured.Extractor(data=b'\\x01\\x00\\x00\\x00', specification=spec).extract_members()"
   ]
  },
  {
   "cell_type": "code",
   "execution_count": 4,
   "metadata": {},
   "outputs": [
    {
     "data": {
      "text/plain": [
       "1"
      ]
     },
     "execution_count": 3,
     "metadata": {},
     "output_type": "execute_result"
    }
   ],
   "source": [
    "spec = construct.Int32ul\n",
    "\n",
    "spec.parse(b'\\x01\\x00\\x00\\x00')"
   ]
  },
  {
   "cell_type": "markdown",
   "metadata": {},
   "source": [
    "By default, the results only return the parsed value and does not include the metadata that you see in enstructured. However, you can get this information by wrapping your construct element with `RawCopy`.\n",
    "\n",
    "(You can access the original value that you would get by the `value` attribute.)"
   ]
  },
  {
   "cell_type": "code",
   "execution_count": 5,
   "metadata": {},
   "outputs": [
    {
     "data": {
      "text/plain": [
       "Container(data=b'\\x01\\x00\\x00\\x00')(value=1)(offset1=0)(offset2=4)(length=4)"
      ]
     },
     "execution_count": 4,
     "metadata": {},
     "output_type": "execute_result"
    }
   ],
   "source": [
    "spec = construct.RawCopy(construct.Int32ul)\n",
    "\n",
    "spec.parse(b'\\x01\\x00\\x00\\x00')"
   ]
  },
  {
   "cell_type": "markdown",
   "metadata": {},
   "source": [
    "The `Container` class that gets returned by construct works just like a dictionary, but also allows for accessing and setting the keys by attribute. "
   ]
  },
  {
   "cell_type": "code",
   "execution_count": 6,
   "metadata": {},
   "outputs": [
    {
     "name": "stdout",
     "output_type": "stream",
     "text": [
      "0 4 1\n0 4 1\nContainer: \n    data = \\x01\\x00\\x00\\x00 (total 4)\n    value = 2\n    offset1 = 0\n    offset2 = 4\n    length = 4\n"
     ]
    }
   ],
   "source": [
    "spec = construct.RawCopy(construct.Int32ul)\n",
    "result = spec.parse(b'\\x01\\x00\\x00\\x00')\n",
    "\n",
    "# Retrieving results.\n",
    "print(result['offset1'], result['length'], result['value'])\n",
    "print(result.offset1, result.length, result.value)\n",
    "\n",
    "# Setting new results.\n",
    "result.value = 2\n",
    "print(result)"
   ]
  },
  {
   "cell_type": "markdown",
   "metadata": {},
   "source": [
    "## Structs\n",
    "\n",
    "`Structs` are the equivalent to specifications in enstructured. They allow you to contain multiple elements and optionally name elements using the `/` operator.\n",
    "\n",
    "*NOTE: If you don't give a name to an element, the results will not show up, but still be parsed. You would usually have a nameless element if you don't care about a certain element (an unknown field) or if you are performing validation. (More on that later.)*"
   ]
  },
  {
   "cell_type": "code",
   "execution_count": 7,
   "metadata": {},
   "outputs": [
    {
     "data": {
      "text/plain": [
       "{'a': {'formatted_value': 10,\n  'ignore': False,\n  'index': 0,\n  'length': 1,\n  'location': 0,\n  'offset': 0,\n  'type': 'uint8',\n  'value': 10},\n 'b': {'formatted_value': 11,\n  'ignore': False,\n  'index': 1,\n  'length': 2,\n  'location': 1,\n  'offset': 1,\n  'type': 'uint16',\n  'value': 11},\n 'member2': {'formatted_value': 12,\n  'ignore': False,\n  'index': 2,\n  'length': 4,\n  'location': 3,\n  'offset': 3,\n  'type': 'uint32',\n  'value': 12}}"
      ]
     },
     "execution_count": 6,
     "metadata": {},
     "output_type": "execute_result"
    }
   ],
   "source": [
    "spec = [\n",
    "    [enstructured.BYTE, 'a'],\n",
    "    [enstructured.WORD, 'b'],\n",
    "    [enstructured.DWORD]\n",
    "]\n",
    "\n",
    "enstructured.Extractor(data=b'\\x0A\\x0B\\x00\\x0C\\x00\\x00\\x00', specification=spec).extract_members()"
   ]
  },
  {
   "cell_type": "code",
   "execution_count": 8,
   "metadata": {},
   "outputs": [
    {
     "data": {
      "text/plain": [
       "Container(a=10)(b=11)"
      ]
     },
     "execution_count": 7,
     "metadata": {},
     "output_type": "execute_result"
    }
   ],
   "source": [
    "spec = construct.Struct(\n",
    "    'a' / construct.Byte,\n",
    "    'b' / construct.Int16ul,\n",
    "    construct.Int32ul\n",
    ")\n",
    "\n",
    "spec.parse(b'\\x0A\\x0B\\x00\\x0C\\x00\\x00\\x00')"
   ]
  },
  {
   "cell_type": "markdown",
   "metadata": {},
   "source": [
    "## Integers\n",
    "\n",
    "Integers work very similar to enstructured. However, the biggest different between these two libraries is that construct allows you to specify the endianess per element. \n",
    "\n",
    "The enstructured library requires you to specify endianness during parsing for all elements.\n",
    "\n",
    "In construct, you can set integers from a variety of bit lengths and endianess. (e.g. `Int32ul`, `Int16ul`, `Int32sb`, `Int32sl`, etc.)  The mwcp.utils.construct helper module has aliased some of these formats to \"WORD\", \"DWORD\", etc. to match the style used in enstructured.\n",
    "\n",
    "`construct.Byte` is the equivelent to `construct.Int8ul` just like enstructured.\n",
    "\n",
    "\n"
   ]
  },
  {
   "cell_type": "code",
   "execution_count": 9,
   "metadata": {},
   "outputs": [
    {
     "data": {
      "text/plain": [
       "{'a': {'formatted_value': 10,\n  'ignore': False,\n  'index': 0,\n  'length': 2,\n  'location': 0,\n  'offset': 0,\n  'type': 'uint16',\n  'value': 10},\n 'b': {'formatted_value': 11,\n  'ignore': False,\n  'index': 1,\n  'length': 4,\n  'location': 2,\n  'offset': 2,\n  'type': 'uint32',\n  'value': 11},\n 'c': {'formatted_value': 3072,\n  'ignore': False,\n  'index': 2,\n  'length': 2,\n  'location': 6,\n  'offset': 6,\n  'type': 'int16',\n  'value': 3072}}"
      ]
     },
     "execution_count": 8,
     "metadata": {},
     "output_type": "execute_result"
    }
   ],
   "source": [
    "spec = [\n",
    "    [enstructured.WORD, 'a'],\n",
    "    [enstructured.DWORD, 'b'],\n",
    "    ['int16', 'c']   # Not possible to have this be big endian!\n",
    "]\n",
    "\n",
    "enstructured.Extractor(data=b'\\x0A\\x00\\x0B\\x00\\x00\\x00\\x00\\x0C', specification=spec).extract_members()"
   ]
  },
  {
   "cell_type": "code",
   "execution_count": 10,
   "metadata": {},
   "outputs": [
    {
     "data": {
      "text/plain": [
       "{'a': {'formatted_value': 2560,\n  'ignore': False,\n  'index': 0,\n  'length': 2,\n  'location': 0,\n  'offset': 0,\n  'type': 'uint16',\n  'value': 2560},\n 'b': {'formatted_value': 184549376,\n  'ignore': False,\n  'index': 1,\n  'length': 4,\n  'location': 2,\n  'offset': 2,\n  'type': 'uint32',\n  'value': 184549376},\n 'c': {'formatted_value': 12,\n  'ignore': False,\n  'index': 2,\n  'length': 2,\n  'location': 6,\n  'offset': 6,\n  'type': 'int16',\n  'value': 12}}"
      ]
     },
     "execution_count": 9,
     "metadata": {},
     "output_type": "execute_result"
    }
   ],
   "source": [
    "enstructured.Extractor(data=b'\\x0A\\x00\\x0B\\x00\\x00\\x00\\x00\\x0C', specification=spec, endian=enstructured.BIG_ENDIAN).extract_members()"
   ]
  },
  {
   "cell_type": "markdown",
   "metadata": {},
   "source": [
    ""
   ]
  },
  {
   "cell_type": "code",
   "execution_count": 11,
   "metadata": {},
   "outputs": [
    {
     "data": {
      "text/plain": [
       "Container(a=10)(b=11)(c=12)"
      ]
     },
     "execution_count": 10,
     "metadata": {},
     "output_type": "execute_result"
    }
   ],
   "source": [
    "spec = construct.Struct(\n",
    "    'a' / construct.WORD,\n",
    "    'b' / construct.DWORD,\n",
    "    'c' / construct.Int16sb\n",
    ")\n",
    "\n",
    "spec.parse(b'\\x0A\\x00\\x0B\\x00\\x00\\x00\\x00\\x0C')"
   ]
  },
  {
   "cell_type": "markdown",
   "metadata": {},
   "source": [
    "## Bytes\n",
    "\n",
    "Bytes work the same way as enstructured. You can specify the length of the bytes by supplying a parameter to `Bytes`."
   ]
  },
  {
   "cell_type": "code",
   "execution_count": 12,
   "metadata": {},
   "outputs": [
    {
     "name": "stdout",
     "output_type": "stream",
     "text": [
      "3\n"
     ]
    },
    {
     "data": {
      "text/plain": [
       "{'my_data': {'formatted_value': b'\\n\\x0b\\x0c',\n  'ignore': False,\n  'index': 0,\n  'length': 3,\n  'location': 0,\n  'offset': 0,\n  'params': {'length': 3},\n  'type': 'bytes',\n  'value': b'\\n\\x0b\\x0c'}}"
      ]
     },
     "execution_count": 11,
     "metadata": {},
     "output_type": "execute_result"
    }
   ],
   "source": [
    "spec = [[enstructured.BYTES, 'my_data', {'length': 3}]]\n",
    "\n",
    "enstructured.Extractor(data=b'\\x0A\\x0B\\x0C', specification=spec).extract_members()"
   ]
  },
  {
   "cell_type": "code",
   "execution_count": 13,
   "metadata": {},
   "outputs": [
    {
     "data": {
      "text/plain": [
       "Container(my_data=b'\\n\\x0b\\x0c')"
      ]
     },
     "execution_count": 12,
     "metadata": {},
     "output_type": "execute_result"
    }
   ],
   "source": [
    "spec = construct.Struct(\n",
    "    'my_data' / construct.Bytes(3)\n",
    ")\n",
    "\n",
    "spec.parse(b'\\x0A\\x0B\\x0C')"
   ]
  },
  {
   "cell_type": "markdown",
   "metadata": {},
   "source": [
    "## Strings\n",
    "\n",
    "Strings work slightly different in construct then it does in enstructured. \n",
    "\n",
    "Instead of having multiple different member types (\"STR\", \"STR16\", \"STR32\", etc.) The construct using the single \"String\" type and allows you to specify the encoding as a parameter. (ie. STR16 == 'utf-16' and STR32 == 'utf-32')\n",
    "\n",
    "*NOTE: By default construct will strip off any null characters before decoding the string. If you are using `utf-16` or `utf-32` (which is actually `utf-16-le` and `utf-32-le`) you will need to change the direction of the padding to the left to ensure that the null characters are being cut from the right side and avoid a decode error. Helper functions `String16` and `String32` have been created to do this for you.*"
   ]
  },
  {
   "cell_type": "code",
   "execution_count": 14,
   "metadata": {},
   "outputs": [
    {
     "name": "stdout",
     "output_type": "stream",
     "text": [
      "5\n"
     ]
    }
   ],
   "source": [
    "spec = [\n",
    "    [enstructured.STR, 'greeting', {'length': 5}],\n",
    "    [enstructured.STR16, 'farewell', {'length': 14}]\n",
    "]\n",
    "\n",
    "enstructured.Extractor(data='hellog\\x00o\\x00o\\x00d\\x00b\\x00y\\x00e\\x00', specification=spec).extract_members()"
   ]
  },
  {
   "cell_type": "code",
   "execution_count": 15,
   "metadata": {},
   "outputs": [
    {
     "data": {
      "text/plain": [
       "Container(greeting='hello')(farewell='goodbye')"
      ]
     },
     "execution_count": 14,
     "metadata": {},
     "output_type": "execute_result"
    }
   ],
   "source": [
    "spec = construct.Struct(\n",
    "    'greeting' / construct.String(5),\n",
    "    'farewell' / construct.String(14, encoding='utf-16', paddir='left')  # OR construct.String16(14)\n",
    ")\n",
    "spec.parse(b'hellog\\x00o\\x00o\\x00d\\x00b\\x00y\\x00e\\x00')"
   ]
  },
  {
   "cell_type": "markdown",
   "metadata": {},
   "source": [
    "To parse a null terminated string without any length, you can use the `CString` subconstruct."
   ]
  },
  {
   "cell_type": "code",
   "execution_count": 16,
   "metadata": {},
   "outputs": [],
   "source": [
    "spec = [[enstructured.STR]]\n",
    "\n",
    "enstructured.Extractor(data=b'hello world\\x00otherstuff', specification=spec).extract_members()"
   ]
  },
  {
   "cell_type": "code",
   "execution_count": 17,
   "metadata": {},
   "outputs": [
    {
     "data": {
      "text/plain": [
       "b'hello world'"
      ]
     },
     "execution_count": 16,
     "metadata": {},
     "output_type": "execute_result"
    }
   ],
   "source": [
    "spec = construct.CString()\n",
    "\n",
    "spec.parse(b'hello world\\x00otherstuff')"
   ]
  },
  {
   "cell_type": "markdown",
   "metadata": {},
   "source": [
    "## Offsetting and Skipping\n",
    "\n",
    "Offsetting in construct is done differently from enstructured. Construct doesn't have the ability to jump to an offset based on the starting offset of the current struct it is parsing. Instead, construct can use either use `Seek` or `Pointer` to jump to a position relative to either the current position or the data itself or `Padding` to specify a number of bytes consume before parsing the next thing.\n",
    "\n",
    "When using `Pointer`, your position is restored after you have finished parsing the given element."
   ]
  },
  {
   "cell_type": "code",
   "execution_count": 18,
   "metadata": {},
   "outputs": [
    {
     "name": "stdout",
     "output_type": "stream",
     "text": [
      "7\n"
     ]
    },
    {
     "data": {
      "text/plain": [
       "{'a': {'formatted_value': 0,\n  'ignore': False,\n  'index': 0,\n  'length': 1,\n  'location': 0,\n  'offset': 0,\n  'type': 'uint8',\n  'value': 0},\n 'b': {'formatted_value': 7,\n  'ignore': False,\n  'index': 1,\n  'length': 1,\n  'location': 7,\n  'offset': 7,\n  'type': 'uint8',\n  'value': 7},\n 'c': {'formatted_value': 8,\n  'ignore': False,\n  'index': 2,\n  'length': 1,\n  'location': 8,\n  'offset': 8,\n  'type': 'uint8',\n  'value': 8}}"
      ]
     },
     "execution_count": 17,
     "metadata": {},
     "output_type": "execute_result"
    }
   ],
   "source": [
    "spec = [\n",
    "    [enstructured.BYTE, 'a'],\n",
    "    [enstructured.BYTE, 'b', {'offset': 7}],\n",
    "    [enstructured.BYTE, 'c']\n",
    "]\n",
    "\n",
    "enstructured.Extractor(data=b'\\x00\\x01\\x02\\x03\\x04\\x05\\x06\\x07\\x08\\x09', specification=spec).extract_members()"
   ]
  },
  {
   "cell_type": "code",
   "execution_count": 19,
   "metadata": {},
   "outputs": [
    {
     "data": {
      "text/plain": [
       "Container(a=0)(b=7)(c=8)"
      ]
     },
     "execution_count": 18,
     "metadata": {},
     "output_type": "execute_result"
    }
   ],
   "source": [
    "import os\n",
    "\n",
    "spec = construct.Struct(\n",
    "    'a' / construct.Byte,\n",
    "    construct.Seek(7, whence=os.SEEK_SET),\n",
    "    'b' / construct.Byte,\n",
    "    'c' / construct.Byte\n",
    ")\n",
    "\n",
    "spec.parse(b'\\x00\\x01\\x02\\x03\\x04\\x05\\x06\\x07\\x08\\x09')"
   ]
  },
  {
   "cell_type": "code",
   "execution_count": 20,
   "metadata": {},
   "outputs": [
    {
     "data": {
      "text/plain": [
       "Container(a=0)(b=7)(c=8)"
      ]
     },
     "execution_count": 19,
     "metadata": {},
     "output_type": "execute_result"
    }
   ],
   "source": [
    "spec = construct.Struct(\n",
    "    'a' / construct.Byte,\n",
    "    construct.Padding(6),  # Pattern can be set and enforced as a form of validation.\n",
    "    'b' / construct.Byte,\n",
    "    'c' / construct.Byte\n",
    ")\n",
    "\n",
    "spec.parse(b'\\x00\\x01\\x02\\x03\\x04\\x05\\x06\\x07\\x08\\x09')"
   ]
  },
  {
   "cell_type": "code",
   "execution_count": 21,
   "metadata": {},
   "outputs": [
    {
     "data": {
      "text/plain": [
       "Container(a=0)(b=7)(c=1)"
      ]
     },
     "execution_count": 20,
     "metadata": {},
     "output_type": "execute_result"
    }
   ],
   "source": [
    "spec = construct.Struct(\n",
    "    'a' / construct.Byte,\n",
    "    'b' / construct.Pointer(7, construct.Byte),  # Pointer can be dynamically computed.\n",
    "    'c' / construct.Byte,\n",
    ")\n",
    "\n",
    "spec.parse(b'\\x00\\x01\\x02\\x03\\x04\\x05\\x06\\x07\\x08\\x09')"
   ]
  },
  {
   "cell_type": "markdown",
   "metadata": {},
   "source": [
    "# SkipNull\n",
    "\n",
    "Construct doesn't originally have \"skipnull\" support, but the element can easily be recreated using `Const` and `GreedyRange`.\n",
    "\n",
    "*The following SkipNull implementation has been provided in the helpers repo.*"
   ]
  },
  {
   "cell_type": "code",
   "execution_count": 22,
   "metadata": {},
   "outputs": [
    {
     "name": "stdout",
     "output_type": "stream",
     "text": [
      "True\n"
     ]
    },
    {
     "data": {
      "text/plain": [
       "{'a': {'formatted_value': 0,\n  'ignore': False,\n  'index': 0,\n  'length': 1,\n  'location': 0,\n  'offset': 0,\n  'type': 'uint8',\n  'value': 0}}"
      ]
     },
     "execution_count": 21,
     "metadata": {},
     "output_type": "execute_result"
    }
   ],
   "source": [
    "spec = [[enstructured.BYTE, 'a', {'skipnull': True}]]\n",
    "\n",
    "enstructured.Extractor(data=b'\\x00\\x00\\x00\\x00\\x01', specification=spec).extract_members()"
   ]
  },
  {
   "cell_type": "code",
   "execution_count": 23,
   "metadata": {},
   "outputs": [
    {
     "data": {
      "text/plain": [
       "Container(a=1)"
      ]
     },
     "execution_count": 22,
     "metadata": {},
     "output_type": "execute_result"
    }
   ],
   "source": [
    "SkipNull = construct.Const(b'\\x00')[:]\n",
    "\n",
    "spec = construct.Struct(\n",
    "    SkipNull,\n",
    "    'a' / construct.Byte\n",
    ")\n",
    "\n",
    "spec.parse(b'\\x00\\x00\\x00\\x00\\x01')"
   ]
  },
  {
   "cell_type": "markdown",
   "metadata": {},
   "source": [
    "## Subfields\n",
    "\n",
    "Providing embedded structs within a struct works by simply providing the spec as the element for a member of the struct."
   ]
  },
  {
   "cell_type": "code",
   "execution_count": 24,
   "metadata": {},
   "outputs": [
    {
     "name": "stdout",
     "output_type": "stream",
     "text": [
      "[['uint32', 'sub_a'], ['uint16', 'sub_b']]\n"
     ]
    },
    {
     "data": {
      "text/plain": [
       "{'a': {'formatted_value': 10,\n  'ignore': False,\n  'index': 0,\n  'length': 4,\n  'location': 0,\n  'offset': 0,\n  'type': 'uint32',\n  'value': 10},\n 'sub': {'ignore': False,\n  'index': 1,\n  'length': 6,\n  'location': 4,\n  'offset': 4,\n  'params': {'spec': [['uint32', 'sub_a'], ['uint16', 'sub_b']]},\n  'type': 'subfield',\n  'value': {'sub_a': {'formatted_value': 11,\n    'ignore': False,\n    'index': 0,\n    'length': 4,\n    'location': 4,\n    'offset': 0,\n    'type': 'uint32',\n    'value': 11},\n   'sub_b': {'formatted_value': 12,\n    'ignore': False,\n    'index': 1,\n    'length': 2,\n    'location': 8,\n    'offset': 4,\n    'type': 'uint16',\n    'value': 12}}}}"
      ]
     },
     "execution_count": 23,
     "metadata": {},
     "output_type": "execute_result"
    }
   ],
   "source": [
    "sub_spec = [\n",
    "    [enstructured.DWORD, 'sub_a'],\n",
    "    [enstructured.WORD, 'sub_b']\n",
    "]\n",
    "spec = [\n",
    "    [enstructured.DWORD, 'a'],\n",
    "    [enstructured.SUBFIELD, 'sub', {'spec': sub_spec}]\n",
    "]\n",
    "\n",
    "enstructured.Extractor(data=b'\\x0A\\x00\\x00\\x00\\x0B\\x00\\x00\\x00\\x0C\\x00', specification=spec).extract_members()"
   ]
  },
  {
   "cell_type": "code",
   "execution_count": 25,
   "metadata": {},
   "outputs": [
    {
     "data": {
      "text/plain": [
       "Container(a=10)(sub=Container(sub_a=11)(sub_b=12))"
      ]
     },
     "execution_count": 24,
     "metadata": {},
     "output_type": "execute_result"
    }
   ],
   "source": [
    "sub_spec = construct.Struct(\n",
    "    'sub_a' / construct.DWORD,\n",
    "    'sub_b' / construct.WORD\n",
    ")\n",
    "spec = construct.Struct(\n",
    "    'a' / construct.DWORD,\n",
    "    'sub' / sub_spec\n",
    ")\n",
    "\n",
    "spec.parse(b'\\x0A\\x00\\x00\\x00\\x0B\\x00\\x00\\x00\\x0C\\x00')"
   ]
  },
  {
   "cell_type": "markdown",
   "metadata": {},
   "source": [
    "*NOTE: Access to sub attributes can be accessed as attributes within the sub*"
   ]
  },
  {
   "cell_type": "code",
   "execution_count": 26,
   "metadata": {},
   "outputs": [
    {
     "data": {
      "text/plain": [
       "(10, 11, 12)"
      ]
     },
     "execution_count": 25,
     "metadata": {},
     "output_type": "execute_result"
    }
   ],
   "source": [
    "results = spec.parse(b'\\x0A\\x00\\x00\\x00\\x0B\\x00\\x00\\x00\\x0C\\x00')\n",
    "results.a, results.sub.sub_a, results.sub.sub_b"
   ]
  },
  {
   "cell_type": "markdown",
   "metadata": {},
   "source": [
    "## Dynamic Parameters\n",
    "\n",
    "The construct library can dynamically determine parameters for elements in a similar way to the enstructured library.\n",
    "\n",
    "While the enstructured library can replace a hardcoded parameter with a string that gets evaulated, the construct library can replace most parameters with a function that accepts the current context of parsing before and returns the value. The context passed in is the same thing that you would get if you stopped parsing at that point. "
   ]
  },
  {
   "cell_type": "code",
   "execution_count": 27,
   "metadata": {},
   "outputs": [
    {
     "name": "stdout",
     "output_type": "stream",
     "text": [
      "`members[\"size\"][\"value\"] * 2`\n"
     ]
    },
    {
     "data": {
      "text/plain": [
       "{'data': {'formatted_value': b'helloworld',\n  'ignore': False,\n  'index': 1,\n  'length': 10,\n  'location': 2,\n  'offset': 2,\n  'params': {'length': 10},\n  'type': 'bytes',\n  'value': b'helloworld'},\n 'size': {'formatted_value': 5,\n  'ignore': False,\n  'index': 0,\n  'length': 2,\n  'location': 0,\n  'offset': 0,\n  'type': 'uint16',\n  'value': 5}}"
      ]
     },
     "execution_count": 26,
     "metadata": {},
     "output_type": "execute_result"
    }
   ],
   "source": [
    "spec = [\n",
    "    [enstructured.WORD, 'size'],\n",
    "    [enstructured.BYTES, 'data', {'length': '`members[\"size\"][\"value\"] * 2`'}]\n",
    "]\n",
    "\n",
    "enstructured.Extractor(data=b'\\x05\\x00helloworld\\x01\\x02\\x03', specification=spec).extract_members()"
   ]
  },
  {
   "cell_type": "code",
   "execution_count": 28,
   "metadata": {},
   "outputs": [
    {
     "data": {
      "text/plain": [
       "Container(size=5)(data=b'helloworld')"
      ]
     },
     "execution_count": 27,
     "metadata": {},
     "output_type": "execute_result"
    }
   ],
   "source": [
    "spec = construct.Struct(\n",
    "    'size' / construct.WORD,\n",
    "    'data' / construct.Bytes(lambda ctx: ctx.size * 2)\n",
    ")\n",
    "\n",
    "spec.parse(b'\\x05\\x00helloworld\\x01\\x02\\x03')"
   ]
  },
  {
   "cell_type": "markdown",
   "metadata": {},
   "source": [
    "The construct library has an alternative syntax for setting these functions by using the `this` singleton like the following:\n",
    "\n",
    "*More information about this can be found at construct.readthedocs.io/en/latest/meta.html#using-this-expression*"
   ]
  },
  {
   "cell_type": "code",
   "execution_count": 29,
   "metadata": {},
   "outputs": [
    {
     "data": {
      "text/plain": [
       "Container(size=5)(data=b'helloworld')"
      ]
     },
     "execution_count": 28,
     "metadata": {},
     "output_type": "execute_result"
    }
   ],
   "source": [
    "spec = construct.Struct(\n",
    "    'size' / construct.WORD,\n",
    "    'data' / construct.Bytes(construct.this.size * 2)\n",
    ")\n",
    "\n",
    "spec.parse(b'\\x05\\x00helloworld\\x01\\x02\\x03')"
   ]
  },
  {
   "cell_type": "markdown",
   "metadata": {},
   "source": [
    "You can also initialize the context with external information before parsing by adding keyword arguments to the \"parse()\" function.\n",
    "\n",
    "Although, you normally won't need to do this since the lambda function should be in the scope of the external data. (But, it can be useful when defining constructs separately from parsing.)\n",
    "\n",
    "NOTE: To access these, you need to access the parent context by using the \"_\" key. (You would do this same thing if you were trying to access the context of a parent struct within an embedded struct.)"
   ]
  },
  {
   "cell_type": "code",
   "execution_count": 30,
   "metadata": {},
   "outputs": [
    {
     "data": {
      "text/plain": [
       "Container(data=b'hellowo')"
      ]
     },
     "execution_count": 29,
     "metadata": {},
     "output_type": "execute_result"
    }
   ],
   "source": [
    "# (Defined somewhere way above, possibly as a class variable.)\n",
    "spec = construct.Struct(\n",
    "    construct.WORD,\n",
    "    'data' / construct.Bytes(lambda ctx: ctx._.external_length)\n",
    ")\n",
    "\n",
    "# ...\n",
    "\n",
    "spec.parse(b'\\x05\\x00helloworld\\x01\\x02\\x03', external_length=7)"
   ]
  },
  {
   "cell_type": "markdown",
   "metadata": {},
   "source": [
    "## Formatting Values\n",
    "\n",
    "You can change the resulting format of any element in similar way to enstructured. \n",
    "\n",
    "With enstructured you would set a \"formatter\" parameter that would be a function that takes a value and converts it to a new format. \n",
    "\n",
    "The construct library does this by wrapping an element in an `Adapter`. An adapter is a class that inherits from `construct.Adapter` and implements the `_encode` and `_decode` functions. These functions take in two parameters `obj` and `context`. `obj` is the value that you are encoding or decoding and `context` is the current context of parsed/built elements. (Both need to be implemented because construct can both parse and build.) \n",
    "\n",
    "A number of adapters have already been developed within the `mwcp.utils.construct` module. Please contribute to this module if you develop a new one."
   ]
  },
  {
   "cell_type": "code",
   "execution_count": 31,
   "metadata": {},
   "outputs": [
    {
     "name": "stdout",
     "output_type": "stream",
     "text": [
      "<function format_timestamp at 0x0000000005C2AD08>\n"
     ]
    },
    {
     "data": {
      "text/plain": [
       "{'': {'formatted_value': '2017-10-02T09:36:58',\n  'formatter': 'format_timestamp',\n  'ignore': False,\n  'index': 0,\n  'length': 4,\n  'location': 0,\n  'offset': 0,\n  'type': 'uint32',\n  'value': 1506951418}}"
      ]
     },
     "execution_count": 30,
     "metadata": {},
     "output_type": "execute_result"
    }
   ],
   "source": [
    "spec = [[enstructured.DWORD, '', {'formatter': enstructured.format_timestamp}]]\n",
    "\n",
    "enstructured.Extractor(data=b'\\xfa\\x40\\xd2\\x59', specification=spec).extract_members()"
   ]
  },
  {
   "cell_type": "code",
   "execution_count": 32,
   "metadata": {
    "collapsed": false
   },
   "outputs": [
    {
     "data": {
      "text/plain": [
       "'Mon Oct  2 09:36:58 2017'"
      ]
     },
     "execution_count": 31,
     "metadata": {},
     "output_type": "execute_result"
    }
   ],
   "source": [
    "import time\n",
    "\n",
    "class UTCTimeStampAdapter(construct.Adapter):\n",
    "    def _decode(self, obj, context):\n",
    "        return time.ctime(obj)\n",
    "    def _encode(self, obj, context):\n",
    "        return int(time.mktime(time.strptime(obj)))\n",
    "\n",
    "UTCTimeStamp = UTCTimeStampAdapter(construct.Int32ul)\n",
    "\n",
    "UTCTimeStamp.parse(b'\\xfa\\x40\\xd2\\x59')"
   ]
  },
  {
   "cell_type": "code",
   "execution_count": 33,
   "metadata": {},
   "outputs": [
    {
     "data": {
      "text/plain": [
       "b'\\xfa@\\xd2Y'"
      ]
     },
     "execution_count": 32,
     "metadata": {},
     "output_type": "execute_result"
    }
   ],
   "source": [
    "UTCTimeStamp.build('Mon Oct 02 09:36:58 2017')"
   ]
  },
  {
   "cell_type": "markdown",
   "metadata": {},
   "source": [
    "## Enums\n",
    "\n",
    "Enums can be created in construct by using `Enum` and specifying keyword arguments (or a dictionary using the `**` notation).\n",
    "\n",
    "The main difference is that construct takes the enums with the key and values reversed from enstructured.\n",
    "\n",
    "Also, construct can take a default value to be used if the enum is not available. If not provided, an exception will be raised if the parse value is not one of the enum values. This is a form of validation. (More on that later.)\n",
    "If `construct.Pass` is set as default, the parsed value as-is will be set instead."
   ]
  },
  {
   "cell_type": "code",
   "execution_count": 34,
   "metadata": {},
   "outputs": [
    {
     "name": "stdout",
     "output_type": "stream",
     "text": [
      "<function format_enum_factory.<locals>.formatter_enum at 0x00000000048DBE18>\n"
     ]
    },
    {
     "data": {
      "text/plain": [
       "{'machine': {'formatted_value': 'Intel 386',\n  'formatter': 'formatter_enum',\n  'ignore': False,\n  'index': 0,\n  'length': 2,\n  'location': 0,\n  'offset': 0,\n  'type': 'uint16',\n  'value': 332}}"
      ]
     },
     "execution_count": 33,
     "metadata": {},
     "output_type": "execute_result"
    }
   ],
   "source": [
    "PE_machines_enum_values = { \n",
    "    0x014c: \"Intel 386\",\n",
    "    0x014d: \"Intel 486\",\n",
    "    0x014e: \"Intel 586\",\n",
    "    0x0200: \"Intel 64-bit\",\n",
    "    0x0162: \"MIPS\",\n",
    "    0x8664: \"AMD64\",\n",
    "} \n",
    "\n",
    "spec = [[enstructured.WORD, 'machine', \n",
    "         {'formatter': enstructured.format_enum_factory(PE_machines_enum_values)}]]\n",
    "\n",
    "enstructured.Extractor(data=b'\\x4c\\x01', specification=spec).extract_members()"
   ]
  },
  {
   "cell_type": "code",
   "execution_count": 35,
   "metadata": {},
   "outputs": [
    {
     "data": {
      "text/plain": [
       "'Intel 386'"
      ]
     },
     "execution_count": 34,
     "metadata": {},
     "output_type": "execute_result"
    }
   ],
   "source": [
    "PE_machines_enum_values = { \n",
    "    \"Intel 386\": 0x014c,\n",
    "    \"Intel 486\": 0x014d,\n",
    "    \"Intel 586\": 0x014e,\n",
    "    \"Intel 64-bit\": 0x0200,\n",
    "    \"MIPS\": 0x0162,\n",
    "    \"AMD64\": 0x8664\n",
    "} \n",
    "\n",
    "spec = construct.Enum(construct.WORD, default=construct.Pass, **PE_machines_enum_values)\n",
    "\n",
    "spec.parse(b'\\x4c\\x01')"
   ]
  },
  {
   "cell_type": "code",
   "execution_count": 36,
   "metadata": {},
   "outputs": [
    {
     "data": {
      "text/plain": [
       "b'L\\x01'"
      ]
     },
     "execution_count": 35,
     "metadata": {},
     "output_type": "execute_result"
    }
   ],
   "source": [
    "spec.build('Intel 386')"
   ]
  },
  {
   "cell_type": "markdown",
   "metadata": {},
   "source": [
    "## Switches\n",
    "\n",
    "The equivelent to enstructured's `MAPSUBFIELD` is `Switch` in construct. It works the same way, only you can also specify a default element or allow it to raise an exception if the parsed value doesn't match."
   ]
  },
  {
   "cell_type": "code",
   "execution_count": 37,
   "metadata": {},
   "outputs": [
    {
     "name": "stdout",
     "output_type": "stream",
     "text": [
      "`members[\"size\"][\"value\"]`\n{224: [['uint8', 'a'], ['uint8', 'b']], 240: [['uint8', 'c'], ['uint8', 'd']]}\n"
     ]
    },
    {
     "data": {
      "text/plain": [
       "{'header': {'ignore': False,\n  'index': 1,\n  'length': 2,\n  'location': 1,\n  'offset': 1,\n  'params': {'key': 240,\n   'specmap': {224: [['uint8', 'a'], ['uint8', 'b']],\n    240: [['uint8', 'c'], ['uint8', 'd']]}},\n  'type': 'mapsubfield',\n  'value': {'c': {'formatted_value': 1,\n    'ignore': False,\n    'index': 0,\n    'length': 1,\n    'location': 1,\n    'offset': 0,\n    'type': 'uint8',\n    'value': 1},\n   'd': {'formatted_value': 2,\n    'ignore': False,\n    'index': 1,\n    'length': 1,\n    'location': 2,\n    'offset': 1,\n    'type': 'uint8',\n    'value': 2}}},\n 'size': {'formatted_value': 240,\n  'ignore': False,\n  'index': 0,\n  'length': 1,\n  'location': 0,\n  'offset': 0,\n  'type': 'uint8',\n  'value': 240}}"
      ]
     },
     "execution_count": 36,
     "metadata": {},
     "output_type": "execute_result"
    }
   ],
   "source": [
    "header1 = [\n",
    "    [enstructured.BYTE, 'a'],\n",
    "    [enstructured.BYTE, 'b']\n",
    "]\n",
    "header2 = [\n",
    "    [enstructured.BYTE, 'c'],\n",
    "    [enstructured.BYTE, 'd']\n",
    "]\n",
    "header_map = {\n",
    "    224: header1,\n",
    "    240: header2,\n",
    "}  \n",
    "\n",
    "spec = [\n",
    "    [enstructured.BYTE, 'size'],\n",
    "    [enstructured.MAPSUBFIELD, 'header', {'key':'`members[\"size\"][\"value\"]`', 'specmap': header_map}]\n",
    "]\n",
    "\n",
    "enstructured.Extractor(data=b'\\xF0\\x01\\x02', specification=spec).extract_members()"
   ]
  },
  {
   "cell_type": "code",
   "execution_count": 38,
   "metadata": {},
   "outputs": [
    {
     "data": {
      "text/plain": [
       "Container(size=240)(header=Container(c=1)(d=2))"
      ]
     },
     "execution_count": 37,
     "metadata": {},
     "output_type": "execute_result"
    }
   ],
   "source": [
    "header1 = construct.Struct(\n",
    "    'a' / construct.Byte,\n",
    "    'b' / construct.Byte\n",
    ")\n",
    "header2 = construct.Struct(\n",
    "    'c' / construct.Byte,\n",
    "    'd' / construct.Byte\n",
    ")\n",
    "header_map = {\n",
    "    224: header1,\n",
    "    240: header2,\n",
    "}  \n",
    "\n",
    "spec = construct.Struct(\n",
    "    'size' / construct.Byte,\n",
    "    'header' / construct.Switch(lambda ctx: ctx.size, cases=header_map)\n",
    ")\n",
    "\n",
    "spec.parse(b'\\xF0\\x01\\x02')"
   ]
  },
  {
   "cell_type": "markdown",
   "metadata": {},
   "source": [
    "Alternatively, it sometimes may be simplier to use an `If` or `IfThenElse` statement."
   ]
  },
  {
   "cell_type": "code",
   "execution_count": 39,
   "metadata": {},
   "outputs": [
    {
     "data": {
      "text/plain": [
       "Container(size=240)(header=Container(c=1)(d=2))"
      ]
     },
     "execution_count": 38,
     "metadata": {},
     "output_type": "execute_result"
    }
   ],
   "source": [
    "spec = construct.Struct(\n",
    "    'size' / construct.Byte,\n",
    "    'header' / construct.IfThenElse(\n",
    "        lambda ctx: ctx.size == 224,  # if\n",
    "        header1,  # then\n",
    "        header2   # else\n",
    "    )\n",
    ")\n",
    "\n",
    "spec.parse(b'\\xF0\\x01\\x02')"
   ]
  },
  {
   "cell_type": "markdown",
   "metadata": {},
   "source": [
    "## Ranges (lists)\n",
    "\n",
    "Equivalent to enstructured's \"SUBFIELDLIST\" and \"count\" parameter, in construct you can define an array or list of constructs by using the '[]' notation after any element."
   ]
  },
  {
   "cell_type": "code",
   "execution_count": 40,
   "metadata": {},
   "outputs": [
    {
     "name": "stdout",
     "output_type": "stream",
     "text": [
      "5\n[['uint8']]\n"
     ]
    },
    {
     "data": {
      "text/plain": [
       "{'': {'count': 5,\n  'ignore': False,\n  'index': 0,\n  'length': 5,\n  'location': 0,\n  'offset': 0,\n  'params': {'count': 5, 'spec': [['uint8']]},\n  'type': 'subfieldlist',\n  'value': [{'member0': {'formatted_value': 1,\n     'ignore': False,\n     'index': 0,\n     'length': 1,\n     'location': 0,\n     'offset': 0,\n     'type': 'uint8',\n     'value': 1}},\n   {'member0': {'formatted_value': 2,\n     'ignore': False,\n     'index': 0,\n     'length': 1,\n     'location': 1,\n     'offset': 0,\n     'type': 'uint8',\n     'value': 2}},\n   {'member0': {'formatted_value': 3,\n     'ignore': False,\n     'index': 0,\n     'length': 1,\n     'location': 2,\n     'offset': 0,\n     'type': 'uint8',\n     'value': 3}},\n   {'member0': {'formatted_value': 4,\n     'ignore': False,\n     'index': 0,\n     'length': 1,\n     'location': 3,\n     'offset': 0,\n     'type': 'uint8',\n     'value': 4}},\n   {'member0': {'formatted_value': 5,\n     'ignore': False,\n     'index': 0,\n     'length': 1,\n     'location': 4,\n     'offset': 0,\n     'type': 'uint8',\n     'value': 5}}]}}"
      ]
     },
     "execution_count": 39,
     "metadata": {},
     "output_type": "execute_result"
    }
   ],
   "source": [
    "sub_spec = [[enstructured.BYTE]]\n",
    "\n",
    "spec = [[enstructured.SUBFIELDLIST, '', {'count': 5, 'spec': sub_spec}]]\n",
    "\n",
    "enstructured.Extractor(data=b'\\x01\\x02\\x03\\x04\\x05', specification=spec).extract_members()"
   ]
  },
  {
   "cell_type": "code",
   "execution_count": 41,
   "metadata": {},
   "outputs": [
    {
     "data": {
      "text/plain": [
       "[1, 2, 3, 4, 5]"
      ]
     },
     "execution_count": 40,
     "metadata": {},
     "output_type": "execute_result"
    }
   ],
   "source": [
    "spec = construct.Byte[5]\n",
    "\n",
    "spec.parse(b'\\x01\\x02\\x03\\x04\\x05')"
   ]
  },
  {
   "cell_type": "code",
   "execution_count": 42,
   "metadata": {},
   "outputs": [
    {
     "name": "stdout",
     "output_type": "stream",
     "text": [
      "`members[\"size\"][\"value\"]`\n[['uint8']]\n"
     ]
    },
    {
     "data": {
      "text/plain": [
       "{'items': {'count': 3,\n  'ignore': False,\n  'index': 1,\n  'length': 3,\n  'location': 1,\n  'offset': 1,\n  'params': {'count': 3, 'spec': [['uint8']]},\n  'type': 'subfieldlist',\n  'value': [{'member0': {'formatted_value': 1,\n     'ignore': False,\n     'index': 0,\n     'length': 1,\n     'location': 1,\n     'offset': 0,\n     'type': 'uint8',\n     'value': 1}},\n   {'member0': {'formatted_value': 2,\n     'ignore': False,\n     'index': 0,\n     'length': 1,\n     'location': 2,\n     'offset': 0,\n     'type': 'uint8',\n     'value': 2}},\n   {'member0': {'formatted_value': 3,\n     'ignore': False,\n     'index': 0,\n     'length': 1,\n     'location': 3,\n     'offset': 0,\n     'type': 'uint8',\n     'value': 3}}]},\n 'size': {'formatted_value': 3,\n  'ignore': False,\n  'index': 0,\n  'length': 1,\n  'location': 0,\n  'offset': 0,\n  'type': 'uint8',\n  'value': 3}}"
      ]
     },
     "execution_count": 41,
     "metadata": {},
     "output_type": "execute_result"
    }
   ],
   "source": [
    "sub_spec = [[enstructured.BYTE]]\n",
    "\n",
    "spec = [\n",
    "    [enstructured.BYTE, 'size'],\n",
    "    [enstructured.SUBFIELDLIST, 'items', {'count': '`members[\"size\"][\"value\"]`', 'spec': sub_spec}]\n",
    "]\n",
    "\n",
    "enstructured.Extractor(data=b'\\x03\\x01\\x02\\x03\\x04\\x05', specification=spec).extract_members()"
   ]
  },
  {
   "cell_type": "code",
   "execution_count": 43,
   "metadata": {},
   "outputs": [
    {
     "data": {
      "text/plain": [
       "Container(size=3)(items=[1, 2, 3])"
      ]
     },
     "execution_count": 42,
     "metadata": {},
     "output_type": "execute_result"
    }
   ],
   "source": [
    "spec = construct.Struct(\n",
    "    'size' / construct.Byte,\n",
    "    'items' / construct.Byte[lambda ctx: ctx.size]\n",
    ")\n",
    "\n",
    "spec.parse(b'\\x03\\x01\\x02\\x03\\x04\\x05')"
   ]
  },
  {
   "cell_type": "markdown",
   "metadata": {},
   "source": [
    "Construct can also parse a \"GreedyRange\" using the `[:]` notation. This will parse the given element continuously until either it has run out of data or validation within the element has failed."
   ]
  },
  {
   "cell_type": "code",
   "execution_count": 44,
   "metadata": {},
   "outputs": [
    {
     "data": {
      "text/plain": [
       "[b'hello', b'world']"
      ]
     },
     "execution_count": 43,
     "metadata": {},
     "output_type": "execute_result"
    }
   ],
   "source": [
    "spec = construct.CString()[:]\n",
    "\n",
    "# The last one doesn't show up because it has failed the validation of needing a '\\x00' at the end.\n",
    "spec.parse(b'hello\\x00world\\x00\\xFAGARBAGE!')"
   ]
  },
  {
   "cell_type": "markdown",
   "metadata": {},
   "source": [
    "## Computed Values\n",
    "\n",
    "The construct library also has the ability to produce computed values using the `Computed` subconstruct. This can be useful if you would like to create new attributes based on the values of other attributes, which can then be used for further parsing."
   ]
  },
  {
   "cell_type": "code",
   "execution_count": 45,
   "metadata": {},
   "outputs": [
    {
     "data": {
      "text/plain": [
       "Container(width=2)(height=3)(size=6)(data=b'hello!')"
      ]
     },
     "execution_count": 44,
     "metadata": {},
     "output_type": "execute_result"
    }
   ],
   "source": [
    "spec = construct.Struct(\n",
    "    'width' / construct.WORD,\n",
    "    'height' / construct.WORD,\n",
    "    'size' / construct.Computed(lambda ctx: ctx.width * ctx.height),\n",
    "    'data' / construct.Bytes(lambda ctx: ctx.size)\n",
    ")\n",
    "\n",
    "spec.parse(b'\\x02\\x00\\x03\\x00hello!')"
   ]
  },
  {
   "cell_type": "markdown",
   "metadata": {},
   "source": [
    "## Delimited\n",
    "\n",
    "You can parse delimited data by using the `Delimited` construct and defining the construct to use on each individual element within the delimited data."
   ]
  },
  {
   "cell_type": "code",
   "execution_count": 46,
   "metadata": {},
   "outputs": [
    {
     "data": {
      "text/plain": [
       "Container(first=b'Hello')(second=1)(third=b'world!!\\x01\\x02')(fourth=255)"
      ]
     },
     "execution_count": 45,
     "metadata": {},
     "output_type": "execute_result"
    }
   ],
   "source": [
    "spec = construct.Delimited(b'|',\n",
    "    'first' / construct.CString(),\n",
    "    'second' / construct.DWORD,\n",
    "    # When using a Greedy construct, either all data till EOF or the next delimiter will be consumed.\n",
    "    'third' / construct.GreedyBytes,\n",
    "    'fourth' / construct.Byte\n",
    ")\n",
    "\n",
    "spec.parse(b'Hello\\x00\\x00|\\x01\\x00\\x00\\x00|world!!\\x01\\x02|\\xff')"
   ]
  },
  {
   "cell_type": "markdown",
   "metadata": {},
   "source": [
    "If you don't care about a particular element, you can leave it nameless just like in Structs."
   ]
  },
  {
   "cell_type": "code",
   "execution_count": 47,
   "metadata": {},
   "outputs": [
    {
     "data": {
      "text/plain": [
       "Container(first=b'Hello')(second=1)(fourth=255)"
      ]
     },
     "execution_count": 46,
     "metadata": {},
     "output_type": "execute_result"
    }
   ],
   "source": [
    "spec = construct.Delimited(b'|',\n",
    "    'first' / construct.CString(),\n",
    "    'second' / construct.DWORD,\n",
    "    construct.Pass,\n",
    "    'fourth' / construct.Byte\n",
    ")\n",
    "\n",
    "spec.parse(b'Hello\\x00\\x00|\\x01\\x00\\x00\\x00|world!!\\x01\\x02|\\xff')"
   ]
  },
  {
   "cell_type": "markdown",
   "metadata": {},
   "source": [
    "It may also be useful to use Pass or Optional for fields that may not exist or you don't care about."
   ]
  },
  {
   "cell_type": "code",
   "execution_count": 48,
   "metadata": {},
   "outputs": [
    {
     "data": {
      "text/plain": [
       "Container(first=b'Hello')(second=None)(third=1)"
      ]
     },
     "execution_count": 47,
     "metadata": {},
     "output_type": "execute_result"
    }
   ],
   "source": [
    "spec = construct.Delimited(b'|',\n",
    "    'first' / construct.CString(),\n",
    "    'second' / construct.Pass,\n",
    "    'third' / construct.Optional(construct.DWORD)\n",
    ")\n",
    "\n",
    "spec.parse(b'Hello\\x00\\x00|dont care|\\x01\\x00\\x00\\x00')"
   ]
  },
  {
   "cell_type": "code",
   "execution_count": 49,
   "metadata": {},
   "outputs": [
    {
     "data": {
      "text/plain": [
       "Container(first=b'Hello')(second=None)(third=None)"
      ]
     },
     "execution_count": 48,
     "metadata": {},
     "output_type": "execute_result"
    }
   ],
   "source": [
    "spec.parse(b'Hello\\x00\\x00||')"
   ]
  },
  {
   "cell_type": "markdown",
   "metadata": {},
   "source": [
    "## PE Physical Address\n",
    "\n",
    "A PE virtual address can be automatically converted to a physical address by using `PEPhysicalAddress` found in our helpers module. This is used as an adapter to wrap around a construct that is parsing an integer representing the virtual address.\n",
    "\n",
    "In order to use this, you must pass a PE object either within the constructor or as a keyword argument in the \"parse()\" function."
   ]
  },
  {
   "cell_type": "code",
   "execution_count": 50,
   "metadata": {},
   "outputs": [],
   "source": [
    "import pefile\n",
    "\n",
    "pe = pefile.PE(r'C:\\32bit_exe')\n",
    "data = pe.trim()"
   ]
  },
  {
   "cell_type": "code",
   "execution_count": 51,
   "metadata": {},
   "outputs": [
    {
     "data": {
      "text/plain": [
       "100"
      ]
     },
     "execution_count": 50,
     "metadata": {},
     "output_type": "execute_result"
    }
   ],
   "source": [
    "spec = construct.PEPhysicalAddress(construct.DWORD, pe=pe)\n",
    "\n",
    "spec.parse(b'd\\x00@\\x00')"
   ]
  },
  {
   "cell_type": "code",
   "execution_count": 52,
   "metadata": {},
   "outputs": [
    {
     "data": {
      "text/plain": [
       "100"
      ]
     },
     "execution_count": 51,
     "metadata": {},
     "output_type": "execute_result"
    }
   ],
   "source": [
    "spec = construct.PEPhysicalAddress(construct.DWORD)\n",
    "\n",
    "spec.parse(b'd\\x00@\\x00', pe=pe)"
   ]
  },
  {
   "cell_type": "markdown",
   "metadata": {},
   "source": [
    "This can be useful when used in combination with `Pointer` in order to retreive data pointed to by an address.\n",
    "\n",
    "*NOTE: `Pointer` is is based on an offset of the input data and has no relation to the pe we passed in. Therefore, we must pass in the full file data to parse.*"
   ]
  },
  {
   "cell_type": "code",
   "execution_count": 53,
   "metadata": {},
   "outputs": [
    {
     "data": {
      "text/plain": [
       "Container(data_ptr=515072)(data=b'../../../src/c_init.cpp')"
      ]
     },
     "execution_count": 52,
     "metadata": {},
     "output_type": "execute_result"
    }
   ],
   "source": [
    "spec = construct.Struct(\n",
    "\tconstruct.Seek(0x6BD),\n",
    "\t'data_ptr' / construct.PEPhysicalAddress(construct.DWORD),\n",
    "\t'data' / construct.Pointer(lambda ctx: ctx.data_ptr, construct.CString())\n",
    ")\n",
    "\n",
    "spec.parse(data, pe=pe)"
   ]
  },
  {
   "cell_type": "markdown",
   "metadata": {},
   "source": [
    "Alternatively, you can used `PEPointer` to simplify this common routine."
   ]
  },
  {
   "cell_type": "code",
   "execution_count": 54,
   "metadata": {},
   "outputs": [
    {
     "data": {
      "text/plain": [
       "Container(data_ptr=4718592)(data=b'../../../src/c_init.cpp')"
      ]
     },
     "execution_count": 53,
     "metadata": {},
     "output_type": "execute_result"
    }
   ],
   "source": [
    "spec = construct.Struct(\n",
    "\tconstruct.Seek(0x6BD),\n",
    "\t'data_ptr' / construct.DWORD,\n",
    "\t'data' / construct.PEPointer(lambda ctx: ctx.data_ptr, construct.CString())\n",
    ")\n",
    "\n",
    "spec.parse(data, pe=pe)"
   ]
  },
  {
   "cell_type": "markdown",
   "metadata": {},
   "source": [
    "# PE Physical Address 64-bit\n",
    "\n",
    "There is a 64-bit version of `PEPointer` called `PEPointer64` that works the same way, but also requires an extra parameter that specifies the offset to the end of the instruction to base the relative pointer on.  The offset can be retrieved during parsing easily by using the `Tell` subconstruct."
   ]
  },
  {
   "cell_type": "code",
   "execution_count": 55,
   "metadata": {},
   "outputs": [
    {
     "data": {
      "text/plain": [
       "Container(data_ptr=10348)(inst_end=25948)(data=b'/solutions')"
      ]
     },
     "execution_count": 54,
     "metadata": {},
     "output_type": "execute_result"
    }
   ],
   "source": [
    "import pefile\n",
    "\n",
    "pe = pefile.PE(r'C:\\64bit_exe')\n",
    "data = pe.trim()\n",
    "\n",
    "spec = construct.Struct(\n",
    "    construct.Seek(0x6555),\n",
    "    construct.Const(b'\\x48\\x8D\\x15'),  # lea rdx, ...\n",
    "    'data_ptr' / construct.DWORD,\n",
    "    'inst_end' / construct.Tell,\n",
    "    'data' / construct.PEPointer64(\n",
    "        lambda ctx: ctx.data_ptr, lambda ctx: ctx.inst_end, construct.Bytes(10))\n",
    ")\n",
    "\n",
    "spec.parse(data, pe=pe)"
   ]
  },
  {
   "cell_type": "markdown",
   "metadata": {},
   "source": [
    "## Regular Expressions\n",
    "\n",
    "Regular expressions can be used to find and parse capture groups by using the `Regex` construct found in the helpers."
   ]
  },
  {
   "cell_type": "code",
   "execution_count": 56,
   "metadata": {},
   "outputs": [
    {
     "data": {
      "text/plain": [
       "Container(size=10)(path=b'C:\\\\Windows')"
      ]
     },
     "execution_count": 55,
     "metadata": {},
     "output_type": "execute_result"
    }
   ],
   "source": [
    "import re\n",
    "regex = re.compile(b'\\x01\\x02(?P<size>.{4})\\x03\\x04(?P<path>[A-Za-z].*\\x00)', re.DOTALL)\n",
    "\n",
    "spec = construct.Regex(regex, size=construct.DWORD, path=construct.CString())\n",
    "    \n",
    "spec.parse(b'GARBAGE!\\x01\\x02\\x0A\\x00\\x00\\x00\\x03\\x04C:\\Windows\\x00MORE GARBAGE!')"
   ]
  },
  {
   "cell_type": "markdown",
   "metadata": {},
   "source": [
    "Since the stream position is left after the matched data, this can also be used to trigger to particular part of the input file."
   ]
  },
  {
   "cell_type": "code",
   "execution_count": 57,
   "metadata": {},
   "outputs": [
    {
     "data": {
      "text/plain": [
       "Container(person=b'bob')"
      ]
     },
     "execution_count": 56,
     "metadata": {},
     "output_type": "execute_result"
    }
   ],
   "source": [
    "spec = construct.Struct(\n",
    "    construct.Regex(b'hello '),\n",
    "    'person' / construct.CString()\n",
    ")\n",
    "\n",
    "spec.parse(b'\\x01\\x03\\x04hello bob\\x00')"
   ]
  },
  {
   "cell_type": "markdown",
   "metadata": {},
   "source": [
    "If the regular expression is not found, a `ConstructError` exception will be raised. This allows `Regex` to act as a form of [validation](#validation])."
   ]
  },
  {
   "cell_type": "code",
   "execution_count": 58,
   "metadata": {},
   "outputs": [
    {
     "name": "stdout",
     "output_type": "stream",
     "text": [
      "Unable to parse: regex did not match\n"
     ]
    }
   ],
   "source": [
    "spec = construct.Struct(\n",
    "    construct.Regex(b'hello '),\n",
    "    'person' / construct.CString()\n",
    ")\n",
    "\n",
    "try:\n",
    "    results = spec.parse(b'\\x01\\x03\\x04goodbye bob\\x00')\n",
    "except construct.ConstructError as e:\n",
    "    print('Unable to parse: {}'.format(e))"
   ]
  },
  {
   "cell_type": "markdown",
   "metadata": {},
   "source": [
    "Multiple regular expressions can be tried by wrapping the constructs in a `Select` construct.\n"
   ]
  },
  {
   "cell_type": "code",
   "execution_count": 59,
   "metadata": {},
   "outputs": [
    {
     "data": {
      "text/plain": [
       "Container(greet_person=b'bob')"
      ]
     },
     "execution_count": 58,
     "metadata": {},
     "output_type": "execute_result"
    }
   ],
   "source": [
    "spec = construct.Select(\n",
    "    construct.Regex(re.compile(b'goodbye (?P<farewell_person>[A-Za-z]*)')),\n",
    "    construct.Regex(re.compile(b'hello (?P<greet_person>[A-Za-z]*)')),\n",
    ")\n",
    "\n",
    "spec.parse(b'\\x01\\x02hello bob\\x00\\x03')"
   ]
  },
  {
   "cell_type": "markdown",
   "metadata": {},
   "source": [
    "Although, you must be careful, the order within the `Select` matters since it will stop after the first successful parse.\n",
    "\n",
    "In this example, we can get either the farewell or greeting depending on the order of our regex."
   ]
  },
  {
   "cell_type": "code",
   "execution_count": 60,
   "metadata": {},
   "outputs": [
    {
     "data": {
      "text/plain": [
       "Container(farwell_person=b'george')"
      ]
     },
     "execution_count": 59,
     "metadata": {},
     "output_type": "execute_result"
    }
   ],
   "source": [
    "spec = construct.Select(\n",
    "    construct.Regex(re.compile(b'goodbye (?P<farwell_person>[A-Za-z]*)')),\n",
    "    construct.Regex(re.compile(b'hello (?P<greet_person>[A-Za-z]*)'))\n",
    ")\n",
    "\n",
    "spec.parse(b'\\x01\\x02hello bob\\x00\\x03\\x04goodbye george\\x00\\x05\\x06')"
   ]
  },
  {
   "cell_type": "code",
   "execution_count": 61,
   "metadata": {},
   "outputs": [
    {
     "data": {
      "text/plain": [
       "Container(greet_person=b'bob')"
      ]
     },
     "execution_count": 60,
     "metadata": {},
     "output_type": "execute_result"
    }
   ],
   "source": [
    "spec = construct.Select(\n",
    "    construct.Regex(re.compile(b'hello (?P<greet_person>[A-Za-z]*)')),\n",
    "    construct.Regex(re.compile(b'goodbye (?P<farwell_person>[A-Za-z]*)')),\n",
    ")\n",
    "\n",
    "spec.parse(b'\\x01\\x02hello bob\\x00\\x03\\x04goodbye george\\x00\\x05\\x06')"
   ]
  },
  {
   "cell_type": "markdown",
   "metadata": {},
   "source": [
    "If you want ensure both regular expressions are found but don't know the order that they will appear, you can use `Union` instead.\n",
    "\n",
    "*NOTE: When using `Union` the stream offset won't advance unless you specify a `buildfrom` parameter, which specifies which field to leave the stream offset at.*"
   ]
  },
  {
   "cell_type": "code",
   "execution_count": 62,
   "metadata": {},
   "outputs": [
    {
     "data": {
      "text/plain": [
       "Container(farwell=b'george')(greeting=b'bob')"
      ]
     },
     "execution_count": 61,
     "metadata": {},
     "output_type": "execute_result"
    }
   ],
   "source": [
    "spec = construct.Union(\n",
    "    'farwell' / construct.Regex(re.compile(b'(?<=goodbye )[A-Za-z]*')),\n",
    "    'greeting' / construct.Regex(re.compile(b'(?<=hello )[A-Za-z]*')),\n",
    ")\n",
    "\n",
    "spec.parse(b'\\x01\\x02hello bob\\x00\\x03\\x04goodbye george\\x00\\x05\\x06')"
   ]
  },
  {
   "cell_type": "markdown",
   "metadata": {},
   "source": [
    "Also, the regular expression can be run multiple times if you use the [range](#ranges-lists) notation: \"[]\""
   ]
  },
  {
   "cell_type": "code",
   "execution_count": 63,
   "metadata": {},
   "outputs": [
    {
     "data": {
      "text/plain": [
       "[Container(prefix=b'hello')(person=b'bob'),\n Container(prefix=b'goodbye')(person=b'george')]"
      ]
     },
     "execution_count": 62,
     "metadata": {},
     "output_type": "execute_result"
    }
   ],
   "source": [
    "spec = construct.Regex(re.compile(b'(?P<prefix>hello|goodbye) (?P<person>[A-Za-z]*)'))\n",
    "\n",
    "spec[:].parse(b'\\x01\\x02hello bob\\x00\\x03\\x04goodbye george\\x00\\x05\\x06')"
   ]
  },
  {
   "cell_type": "markdown",
   "metadata": {},
   "source": [
    ""
   ]
  },
  {
   "cell_type": "markdown",
   "metadata": {},
   "source": [
    "## HTML Documentation\n",
    "\n",
    "In `mwcp.utils.construct`, we have created the function `html_hex()` which will create a user-friendly hex dump of the parsed data in the same way as enstructured.\n",
    "\n",
    "Every element with a provided name (that doesn't start with \"_\") will be highlighted within the hex dump."
   ]
  },
  {
   "cell_type": "code",
   "execution_count": 64,
   "metadata": {},
   "outputs": [
    {
     "data": {
      "text/html": [
       "\n",
       "<html>\n",
       "<head>\n",
       "<meta http-equiv=Content-Type content=\"text/html; charset=windows-1252\">\n",
       "<meta name=Generator content=\"Microsoft Word 14 (filtered)\">\n",
       "<style>\n",
       "<!--\n",
       " /* Font Definitions */\n",
       " @font-face\n",
       "\t{font-family:Courier;\n",
       "\tpanose-1:2 7 4 9 2 2 5 2 4 4;}\n",
       "@font-face\n",
       "\t{font-family:\"Cambria Math\";\n",
       "\tpanose-1:2 4 5 3 5 4 6 3 2 4;}\n",
       "@font-face\n",
       "\t{font-family:Calibri;\n",
       "\tpanose-1:2 15 5 2 2 2 4 3 2 4;}\n",
       " /* Style Definitions */\n",
       " p.MsoNormal, li.MsoNormal, div.MsoNormal\n",
       "\t{margin:0in;\n",
       "\tmargin-bottom:.0001pt;\n",
       "\tfont-size:11.0pt;\n",
       "\tfont-family:\"Times New Roman\",\"serif\";}\n",
       "h1\n",
       "\t{mso-style-link:\"Heading 1 Char\";\n",
       "\tmargin:0in;\n",
       "\tmargin-bottom:.0001pt;\n",
       "\tpage-break-after:avoid;\n",
       "\tfont-size:16.0pt;\n",
       "\tfont-family:\"Calibri\",\"sans-serif\";\n",
       "\tcolor:#943634;}\n",
       "h3\n",
       "\t{mso-style-link:\"Heading 3 Char\";\n",
       "\tmargin-top:10.0pt;\n",
       "\tmargin-right:0in;\n",
       "\tmargin-bottom:0in;\n",
       "\tmargin-left:0in;\n",
       "\tmargin-bottom:.0001pt;\n",
       "\tpage-break-after:avoid;\n",
       "\tfont-size:11.0pt;\n",
       "\tfont-family:\"Times New Roman\",\"serif\";}\n",
       "p.MsoNoSpacing, li.MsoNoSpacing, div.MsoNoSpacing\n",
       "\t{mso-style-link:\"No Spacing Char\";\n",
       "\tmargin:0in;\n",
       "\tmargin-bottom:.0001pt;\n",
       "\tfont-size:11.0pt;\n",
       "\tfont-family:\"Calibri\",\"sans-serif\";}\n",
       "span.Heading1Char\n",
       "\t{mso-style-name:\"Heading 1 Char\";\n",
       "\tmso-style-link:\"Heading 1\";\n",
       "\tcolor:#943634;\n",
       "\tfont-weight:bold;}\n",
       "span.Heading3Char\n",
       "\t{mso-style-name:\"Heading 3 Char\";\n",
       "\tmso-style-link:\"Heading 3\";\n",
       "\tfont-family:\"Times New Roman\",\"serif\";\n",
       "\tfont-weight:bold;}\n",
       "span.NoSpacingChar\n",
       "\t{mso-style-name:\"No Spacing Char\";\n",
       "\tmso-style-link:\"No Spacing\";\n",
       "\tfont-family:\"Calibri\",\"sans-serif\";}\n",
       ".MsoChpDefault\n",
       "\t{font-family:\"Calibri\",\"sans-serif\";}\n",
       ".MsoPapDefault\n",
       "\t{margin-bottom:10.0pt;\n",
       "\tline-height:115%;}\n",
       "@page WordSection1\n",
       "\t{size:8.5in 11.0in;\n",
       "\tmargin:1.0in 1.0in 1.0in 1.0in;}\n",
       "div.WordSection1\n",
       "\t{page:WordSection1;}\n",
       "-->\n",
       "</style>\n",
       "</head>\n",
       "<body lang=EN-US>\n",
       "<div class=WordSection1>\n",
       "<p class=MsoNormal style='background:#FFFFFF'><span style='font-size:8.0pt;\n",
       "font-family:\"Courier New\"'>&nbsp;offset&nbsp;|&nbsp;&nbsp;0&nbsp;&nbsp;1&nbsp;&nbsp;2&nbsp;&nbsp;3&nbsp;&nbsp;4&nbsp;&nbsp;5&nbsp;&nbsp;6&nbsp;&nbsp;7&nbsp;&nbsp;8&nbsp;&nbsp;9&nbsp;&nbsp;a&nbsp;&nbsp;b&nbsp;&nbsp;c&nbsp;&nbsp;d&nbsp;&nbsp;e&nbsp;&nbsp;f&nbsp;|&nbsp;0123456789abcdef</span></p>\n",
       "<p class=MsoNormal style='background:#FFFFFF'><span style='font-size:8.0pt;\n",
       "font-family:\"Courier New\"'>&nbsp;------ |  -- -- -- -- -- -- -- -- -- -- -- -- -- -- -- --  |  ----------------</span></p>\n",
       "\n",
       "    <p class=MsoNormal style=\"background:#FFFFFF\">\n",
       "        <span style=\"font-size:8.0pt;font-family:'Courier New'\">\n",
       "            &nbsp;000000&nbsp;|&nbsp;01&nbsp;00&nbsp;00&nbsp;00&nbsp;7D&nbsp;00&nbsp;00&nbsp;00&nbsp;00&nbsp;<span style=\"background:#00ff00;color:#000000\">F4&nbsp;01&nbsp;</span><span style=\"background:#0000ff;color:#ffffff\">68&nbsp;65&nbsp;6C&nbsp;6C&nbsp;6F</span>&nbsp;|&nbsp;....}....<span style=\"background:#00ff00;color:#000000\">..</span><span style=\"background:#0000ff;color:#ffffff\">hello</span>\n",
       "        </span>\n",
       "    </p>\n",
       "    <p class=MsoNormal style=\"background:#FFFFFF\">\n",
       "        <span style=\"font-size:8.0pt;font-family:'Courier New'\">\n",
       "            &nbsp;000010&nbsp;|&nbsp;<span style=\"background:#00ffff;color:#000000\">02&nbsp;00&nbsp;</span><span style=\"background:#ff0000;color:#ffffff\">77&nbsp;6F&nbsp;72&nbsp;6C&nbsp;64&nbsp;</span><span style=\"background:#ffff00;color:#000000\">E8&nbsp;03&nbsp;</span><span style=\"background:#ff00ff;color:#ffffff\">01&nbsp;FA&nbsp;FF&nbsp;59&nbsp;4F&nbsp;</span>00&nbsp;00&nbsp;|&nbsp;<span style=\"background:#00ffff;color:#000000\">..</span><span style=\"background:#ff0000;color:#ffffff\">world</span><span style=\"background:#ffff00;color:#000000\">..</span><span style=\"background:#ff00ff;color:#ffffff\">...YO</span>..\n",
       "        </span>\n",
       "    </p>\n",
       "    <p class=MsoNormal style=\"background:#FFFFFF\">\n",
       "        <span style=\"font-size:8.0pt;font-family:'Courier New'\">\n",
       "            &nbsp;000020&nbsp;|&nbsp;00&nbsp;00&nbsp;00&nbsp;00&nbsp;00&nbsp;00&nbsp;00&nbsp;00&nbsp;00&nbsp;00&nbsp;00&nbsp;01&nbsp;01&nbsp;00&nbsp;00&nbsp;00&nbsp;|&nbsp;................\n",
       "        </span>\n",
       "    </p>\n",
       "    <p class=MsoNormal style=\"background:#FFFFFF\">\n",
       "        <span style=\"font-size:8.0pt;font-family:'Courier New'\">\n",
       "            &nbsp;000030&nbsp;|&nbsp;00&nbsp;01&nbsp;00&nbsp;00&nbsp;00&nbsp;<span style=\"background:#008000;color:#ffffff\">C0&nbsp;A8&nbsp;01&nbsp;0D&nbsp;</span><span style=\"background:#000080;color:#ffffff\">C0&nbsp;A8&nbsp;01&nbsp;0D&nbsp;C0&nbsp;A8&nbsp;01</span>&nbsp;|&nbsp;.....<span style=\"background:#008000;color:#ffffff\">....</span><span style=\"background:#000080;color:#ffffff\">.......</span>\n",
       "        </span>\n",
       "    </p>\n",
       "    <p class=MsoNormal style=\"background:#FFFFFF\">\n",
       "        <span style=\"font-size:8.0pt;font-family:'Courier New'\">\n",
       "            &nbsp;000040&nbsp;|&nbsp;<span style=\"background:#000080;color:#ffffff\">0D&nbsp;C0&nbsp;A8&nbsp;01&nbsp;0D&nbsp;C0&nbsp;A8&nbsp;01&nbsp;0D&nbsp;</span>FF&nbsp;FF&nbsp;01&nbsp;00&nbsp;00&nbsp;00&nbsp;00&nbsp;|&nbsp;<span style=\"background:#000080;color:#ffffff\">.........</span>.......\n",
       "        </span>\n",
       "    </p>\n",
       "    <p class=MsoNormal style=\"background:#FFFFFF\">\n",
       "        <span style=\"font-size:8.0pt;font-family:'Courier New'\">\n",
       "            &nbsp;000050&nbsp;|&nbsp;00&nbsp;<span style=\"background:#008080;color:#ffffff\">66&nbsp;6F&nbsp;6F&nbsp;20&nbsp;62&nbsp;61&nbsp;72&nbsp;21&nbsp;00&nbsp;</span><span style=\"background:#00ff80;color:#000000\">01&nbsp;00&nbsp;00&nbsp;00&nbsp;</span><span style=\"background:#0080ff;color:#ffffff\">64&nbsp;0A</span>&nbsp;|&nbsp;.<span style=\"background:#008080;color:#ffffff\">foo.bar!.</span><span style=\"background:#00ff80;color:#000000\">....</span><span style=\"background:#0080ff;color:#ffffff\">d.</span>\n",
       "        </span>\n",
       "    </p>\n",
       "    <p class=MsoNormal style=\"background:#FFFFFF\">\n",
       "        <span style=\"font-size:8.0pt;font-family:'Courier New'\">\n",
       "            &nbsp;000060&nbsp;|&nbsp;<span style=\"background:#0080ff;color:#ffffff\">00&nbsp;00&nbsp;</span><span style=\"background:#800000;color:#ffffff\">C4&nbsp;07&nbsp;00&nbsp;00&nbsp;</span><span style=\"background:#808000;color:#ffffff\">4C&nbsp;69&nbsp;6E&nbsp;75&nbsp;78&nbsp;20&nbsp;33&nbsp;2E&nbsp;31&nbsp;33</span>&nbsp;|&nbsp;<span style=\"background:#0080ff;color:#ffffff\">..</span><span style=\"background:#800000;color:#ffffff\">....</span><span style=\"background:#808000;color:#ffffff\">Linux.3.13</span>\n",
       "        </span>\n",
       "    </p>\n",
       "    <p class=MsoNormal style=\"background:#FFFFFF\">\n",
       "        <span style=\"font-size:8.0pt;font-family:'Courier New'\">\n",
       "            &nbsp;000070&nbsp;|&nbsp;<span style=\"background:#808000;color:#ffffff\">2E&nbsp;30&nbsp;2D&nbsp;39&nbsp;33&nbsp;2D&nbsp;67&nbsp;65&nbsp;6E&nbsp;65&nbsp;72&nbsp;69&nbsp;63&nbsp;00&nbsp;</span><span style=\"background:#80ff00;color:#000000\">31&nbsp;2E</span>&nbsp;|&nbsp;<span style=\"background:#808000;color:#ffffff\">.0-93-generic.</span><span style=\"background:#80ff00;color:#000000\">1.</span>\n",
       "        </span>\n",
       "    </p>\n",
       "    <p class=MsoNormal style=\"background:#FFFFFF\">\n",
       "        <span style=\"font-size:8.0pt;font-family:'Courier New'\">\n",
       "            &nbsp;000080&nbsp;|&nbsp;<span style=\"background:#80ff00;color:#000000\">30&nbsp;2E&nbsp;30&nbsp;00&nbsp;</span>&nbsp;&nbsp;&nbsp;&nbsp;&nbsp;&nbsp;&nbsp;&nbsp;&nbsp;&nbsp;&nbsp;&nbsp;&nbsp;&nbsp;&nbsp;&nbsp;&nbsp;&nbsp;&nbsp;&nbsp;&nbsp;&nbsp;&nbsp;&nbsp;&nbsp;&nbsp;&nbsp;&nbsp;&nbsp;&nbsp;&nbsp;&nbsp;&nbsp;&nbsp;&nbsp;&nbsp;|&nbsp;<span style=\"background:#80ff00;color:#000000\">0.0.</span>&nbsp;&nbsp;&nbsp;&nbsp;&nbsp;&nbsp;&nbsp;&nbsp;&nbsp;&nbsp;&nbsp;&nbsp;\n",
       "        </span>\n",
       "    </p>\n",
       "\n",
       "<p class=MsoNormal>&nbsp;</p>\n",
       "\n",
       "    <table class=MsoNormalTable border=1 cellspacing=0 cellpadding=0\n",
       "     style='margin-left:5.4pt;border-collapse:collapse;border:none'>\n",
       "     <tr>\n",
       "      <td width=175 valign=top style='width:131.05pt;border:solid windowtext 1.0pt;\n",
       "      background:#244061;padding:0in 5.4pt 0in 5.4pt'>\n",
       "      <p class=MsoNoSpacing align=center style='text-align:center'><b><span\n",
       "      style='font-size:9.0pt;font-family:\"Times New Roman\",\"serif\";color:white'>Offset</span></b></p>\n",
       "      </td>\n",
       "      <td width=238 valign=top style='width:178.7pt;border:solid windowtext 1.0pt;\n",
       "      border-left:none;background:#244061;padding:0in 5.4pt 0in 5.4pt'>\n",
       "      <p class=MsoNoSpacing align=center style='text-align:center'><b><span\n",
       "      style='font-size:9.0pt;font-family:\"Times New Roman\",\"serif\";color:white'>Name</span></b></p>\n",
       "      </td>\n",
       "      <td width=218 valign=top style='width:163.65pt;border:solid windowtext 1.0pt;\n",
       "      border-left:none;background:#244061;padding:0in 5.4pt 0in 5.4pt'>\n",
       "      <p class=MsoNoSpacing align=center style='text-align:center'><b><span\n",
       "      style='font-size:9.0pt;font-family:\"Times New Roman\",\"serif\";color:white'>Value</span></b></p>\n",
       "      </td>\n",
       "     </tr>\n",
       "\n",
       "        <tr>\n",
       "            <td width=175 valign=top style=\"width:131.05pt;border:solid windowtext 1.0pt;  border-top:none;padding:0in 5.4pt 0in 5.4pt\">\n",
       "                <p class=MsoNoSpacing>\n",
       "                    <span style=\"font-size:8.0pt;font-family:'Courier New';  \">000009</span>\n",
       "                </p>\n",
       "            </td>\n",
       "\n",
       "            <td width=238 valign=top style=\"width:178.7pt;border-top:none;border-left:  none;border-bottom:solid windowtext 1.0pt;border-right:solid windowtext 1.0pt;  padding:0in 5.4pt 0in 5.4pt\">\n",
       "                <p class=MsoNoSpacing>\n",
       "                    <span style=\"font-size:8.0pt;font-family:'Courier New';background:#00ff00;color:#000000\">\n",
       "                        Payloads[0] / Hardcoded Value\n",
       "                    </span>\n",
       "                </p>\n",
       "            </td>\n",
       "\n",
       "            <td width=218 valign=top style=\"width:163.65pt;border-top:none;border-left:  none;border-bottom:solid windowtext 1.0pt;border-right:solid windowtext 1.0pt;  padding:0in 5.4pt 0in 5.4pt\">\n",
       "                <p class=MsoNoSpacing>\n",
       "                    <span style=\"font-size:8.0pt;font-family:'Courier New'\">\n",
       "                        500\n",
       "                    </span>\n",
       "                </p>\n",
       "            </td>\n",
       "        </tr>\n",
       "        <tr>\n",
       "            <td width=175 valign=top style=\"width:131.05pt;border:solid windowtext 1.0pt;  border-top:none;padding:0in 5.4pt 0in 5.4pt\">\n",
       "                <p class=MsoNoSpacing>\n",
       "                    <span style=\"font-size:8.0pt;font-family:'Courier New';  \">00000b</span>\n",
       "                </p>\n",
       "            </td>\n",
       "\n",
       "            <td width=238 valign=top style=\"width:178.7pt;border-top:none;border-left:  none;border-bottom:solid windowtext 1.0pt;border-right:solid windowtext 1.0pt;  padding:0in 5.4pt 0in 5.4pt\">\n",
       "                <p class=MsoNoSpacing>\n",
       "                    <span style=\"font-size:8.0pt;font-family:'Courier New';background:#0000ff;color:#ffffff\">\n",
       "                        Payloads[0] / Data\n",
       "                    </span>\n",
       "                </p>\n",
       "            </td>\n",
       "\n",
       "            <td width=218 valign=top style=\"width:163.65pt;border-top:none;border-left:  none;border-bottom:solid windowtext 1.0pt;border-right:solid windowtext 1.0pt;  padding:0in 5.4pt 0in 5.4pt\">\n",
       "                <p class=MsoNoSpacing>\n",
       "                    <span style=\"font-size:8.0pt;font-family:'Courier New'\">\n",
       "                        hello\n",
       "                    </span>\n",
       "                </p>\n",
       "            </td>\n",
       "        </tr>\n",
       "        <tr>\n",
       "            <td width=175 valign=top style=\"width:131.05pt;border:solid windowtext 1.0pt;  border-top:none;padding:0in 5.4pt 0in 5.4pt\">\n",
       "                <p class=MsoNoSpacing>\n",
       "                    <span style=\"font-size:8.0pt;font-family:'Courier New';  \">000010</span>\n",
       "                </p>\n",
       "            </td>\n",
       "\n",
       "            <td width=238 valign=top style=\"width:178.7pt;border-top:none;border-left:  none;border-bottom:solid windowtext 1.0pt;border-right:solid windowtext 1.0pt;  padding:0in 5.4pt 0in 5.4pt\">\n",
       "                <p class=MsoNoSpacing>\n",
       "                    <span style=\"font-size:8.0pt;font-family:'Courier New';background:#00ffff;color:#000000\">\n",
       "                        Payloads[1] / Hardcoded Value\n",
       "                    </span>\n",
       "                </p>\n",
       "            </td>\n",
       "\n",
       "            <td width=218 valign=top style=\"width:163.65pt;border-top:none;border-left:  none;border-bottom:solid windowtext 1.0pt;border-right:solid windowtext 1.0pt;  padding:0in 5.4pt 0in 5.4pt\">\n",
       "                <p class=MsoNoSpacing>\n",
       "                    <span style=\"font-size:8.0pt;font-family:'Courier New'\">\n",
       "                        2\n",
       "                    </span>\n",
       "                </p>\n",
       "            </td>\n",
       "        </tr>\n",
       "        <tr>\n",
       "            <td width=175 valign=top style=\"width:131.05pt;border:solid windowtext 1.0pt;  border-top:none;padding:0in 5.4pt 0in 5.4pt\">\n",
       "                <p class=MsoNoSpacing>\n",
       "                    <span style=\"font-size:8.0pt;font-family:'Courier New';  \">000012</span>\n",
       "                </p>\n",
       "            </td>\n",
       "\n",
       "            <td width=238 valign=top style=\"width:178.7pt;border-top:none;border-left:  none;border-bottom:solid windowtext 1.0pt;border-right:solid windowtext 1.0pt;  padding:0in 5.4pt 0in 5.4pt\">\n",
       "                <p class=MsoNoSpacing>\n",
       "                    <span style=\"font-size:8.0pt;font-family:'Courier New';background:#ff0000;color:#ffffff\">\n",
       "                        Payloads[1] / Data\n",
       "                    </span>\n",
       "                </p>\n",
       "            </td>\n",
       "\n",
       "            <td width=218 valign=top style=\"width:163.65pt;border-top:none;border-left:  none;border-bottom:solid windowtext 1.0pt;border-right:solid windowtext 1.0pt;  padding:0in 5.4pt 0in 5.4pt\">\n",
       "                <p class=MsoNoSpacing>\n",
       "                    <span style=\"font-size:8.0pt;font-family:'Courier New'\">\n",
       "                        world\n",
       "                    </span>\n",
       "                </p>\n",
       "            </td>\n",
       "        </tr>\n",
       "        <tr>\n",
       "            <td width=175 valign=top style=\"width:131.05pt;border:solid windowtext 1.0pt;  border-top:none;padding:0in 5.4pt 0in 5.4pt\">\n",
       "                <p class=MsoNoSpacing>\n",
       "                    <span style=\"font-size:8.0pt;font-family:'Courier New';  \">000017</span>\n",
       "                </p>\n",
       "            </td>\n",
       "\n",
       "            <td width=238 valign=top style=\"width:178.7pt;border-top:none;border-left:  none;border-bottom:solid windowtext 1.0pt;border-right:solid windowtext 1.0pt;  padding:0in 5.4pt 0in 5.4pt\">\n",
       "                <p class=MsoNoSpacing>\n",
       "                    <span style=\"font-size:8.0pt;font-family:'Courier New';background:#ffff00;color:#000000\">\n",
       "                        Payloads[2] / Hardcoded Value\n",
       "                    </span>\n",
       "                </p>\n",
       "            </td>\n",
       "\n",
       "            <td width=218 valign=top style=\"width:163.65pt;border-top:none;border-left:  none;border-bottom:solid windowtext 1.0pt;border-right:solid windowtext 1.0pt;  padding:0in 5.4pt 0in 5.4pt\">\n",
       "                <p class=MsoNoSpacing>\n",
       "                    <span style=\"font-size:8.0pt;font-family:'Courier New'\">\n",
       "                        1000\n",
       "                    </span>\n",
       "                </p>\n",
       "            </td>\n",
       "        </tr>\n",
       "        <tr>\n",
       "            <td width=175 valign=top style=\"width:131.05pt;border:solid windowtext 1.0pt;  border-top:none;padding:0in 5.4pt 0in 5.4pt\">\n",
       "                <p class=MsoNoSpacing>\n",
       "                    <span style=\"font-size:8.0pt;font-family:'Courier New';  \">000019</span>\n",
       "                </p>\n",
       "            </td>\n",
       "\n",
       "            <td width=238 valign=top style=\"width:178.7pt;border-top:none;border-left:  none;border-bottom:solid windowtext 1.0pt;border-right:solid windowtext 1.0pt;  padding:0in 5.4pt 0in 5.4pt\">\n",
       "                <p class=MsoNoSpacing>\n",
       "                    <span style=\"font-size:8.0pt;font-family:'Courier New';background:#ff00ff;color:#ffffff\">\n",
       "                        Payloads[2] / Data\n",
       "                    </span>\n",
       "                </p>\n",
       "            </td>\n",
       "\n",
       "            <td width=218 valign=top style=\"width:163.65pt;border-top:none;border-left:  none;border-bottom:solid windowtext 1.0pt;border-right:solid windowtext 1.0pt;  padding:0in 5.4pt 0in 5.4pt\">\n",
       "                <p class=MsoNoSpacing>\n",
       "                    <span style=\"font-size:8.0pt;font-family:'Courier New'\">\n",
       "                        \\x01\\xfa\\xffYO\n",
       "                    </span>\n",
       "                </p>\n",
       "            </td>\n",
       "        </tr>\n",
       "        <tr>\n",
       "            <td width=175 valign=top style=\"width:131.05pt;border:solid windowtext 1.0pt;  border-top:none;padding:0in 5.4pt 0in 5.4pt\">\n",
       "                <p class=MsoNoSpacing>\n",
       "                    <span style=\"font-size:8.0pt;font-family:'Courier New';  \">000035</span>\n",
       "                </p>\n",
       "            </td>\n",
       "\n",
       "            <td width=238 valign=top style=\"width:178.7pt;border-top:none;border-left:  none;border-bottom:solid windowtext 1.0pt;border-right:solid windowtext 1.0pt;  padding:0in 5.4pt 0in 5.4pt\">\n",
       "                <p class=MsoNoSpacing>\n",
       "                    <span style=\"font-size:8.0pt;font-family:'Courier New';background:#008000;color:#ffffff\">\n",
       "                        Compromised Host IP\n",
       "                    </span>\n",
       "                </p>\n",
       "            </td>\n",
       "\n",
       "            <td width=218 valign=top style=\"width:163.65pt;border-top:none;border-left:  none;border-bottom:solid windowtext 1.0pt;border-right:solid windowtext 1.0pt;  padding:0in 5.4pt 0in 5.4pt\">\n",
       "                <p class=MsoNoSpacing>\n",
       "                    <span style=\"font-size:8.0pt;font-family:'Courier New'\">\n",
       "                        192.168.1.13\n",
       "                    </span>\n",
       "                </p>\n",
       "            </td>\n",
       "        </tr>\n",
       "        <tr>\n",
       "            <td width=175 valign=top style=\"width:131.05pt;border:solid windowtext 1.0pt;  border-top:none;padding:0in 5.4pt 0in 5.4pt\">\n",
       "                <p class=MsoNoSpacing>\n",
       "                    <span style=\"font-size:8.0pt;font-family:'Courier New';  \">000039</span>\n",
       "                </p>\n",
       "            </td>\n",
       "\n",
       "            <td width=238 valign=top style=\"width:178.7pt;border-top:none;border-left:  none;border-bottom:solid windowtext 1.0pt;border-right:solid windowtext 1.0pt;  padding:0in 5.4pt 0in 5.4pt\">\n",
       "                <p class=MsoNoSpacing>\n",
       "                    <span style=\"font-size:8.0pt;font-family:'Courier New';background:#000080;color:#ffffff\">\n",
       "                        Unknown IP Addresses\n",
       "                    </span>\n",
       "                </p>\n",
       "            </td>\n",
       "\n",
       "            <td width=218 valign=top style=\"width:163.65pt;border-top:none;border-left:  none;border-bottom:solid windowtext 1.0pt;border-right:solid windowtext 1.0pt;  padding:0in 5.4pt 0in 5.4pt\">\n",
       "                <p class=MsoNoSpacing>\n",
       "                    <span style=\"font-size:8.0pt;font-family:'Courier New'\">\n",
       "                        - 192.168.1.13<br/>- 192.168.1.13<br/>- 192.168.1.13<br/>- 192.168.1.13\n",
       "                    </span>\n",
       "                </p>\n",
       "            </td>\n",
       "        </tr>\n",
       "        <tr>\n",
       "            <td width=175 valign=top style=\"width:131.05pt;border:solid windowtext 1.0pt;  border-top:none;padding:0in 5.4pt 0in 5.4pt\">\n",
       "                <p class=MsoNoSpacing>\n",
       "                    <span style=\"font-size:8.0pt;font-family:'Courier New';  \">000051</span>\n",
       "                </p>\n",
       "            </td>\n",
       "\n",
       "            <td width=238 valign=top style=\"width:178.7pt;border-top:none;border-left:  none;border-bottom:solid windowtext 1.0pt;border-right:solid windowtext 1.0pt;  padding:0in 5.4pt 0in 5.4pt\">\n",
       "                <p class=MsoNoSpacing>\n",
       "                    <span style=\"font-size:8.0pt;font-family:'Courier New';background:#008080;color:#ffffff\">\n",
       "                        Unknown Indicator\n",
       "                    </span>\n",
       "                </p>\n",
       "            </td>\n",
       "\n",
       "            <td width=218 valign=top style=\"width:163.65pt;border-top:none;border-left:  none;border-bottom:solid windowtext 1.0pt;border-right:solid windowtext 1.0pt;  padding:0in 5.4pt 0in 5.4pt\">\n",
       "                <p class=MsoNoSpacing>\n",
       "                    <span style=\"font-size:8.0pt;font-family:'Courier New'\">\n",
       "                        foo bar!\n",
       "                    </span>\n",
       "                </p>\n",
       "            </td>\n",
       "        </tr>\n",
       "        <tr>\n",
       "            <td width=175 valign=top style=\"width:131.05pt;border:solid windowtext 1.0pt;  border-top:none;padding:0in 5.4pt 0in 5.4pt\">\n",
       "                <p class=MsoNoSpacing>\n",
       "                    <span style=\"font-size:8.0pt;font-family:'Courier New';  \">00005a</span>\n",
       "                </p>\n",
       "            </td>\n",
       "\n",
       "            <td width=238 valign=top style=\"width:178.7pt;border-top:none;border-left:  none;border-bottom:solid windowtext 1.0pt;border-right:solid windowtext 1.0pt;  padding:0in 5.4pt 0in 5.4pt\">\n",
       "                <p class=MsoNoSpacing>\n",
       "                    <span style=\"font-size:8.0pt;font-family:'Courier New';background:#00ff80;color:#000000\">\n",
       "                        Number of CPUs\n",
       "                    </span>\n",
       "                </p>\n",
       "            </td>\n",
       "\n",
       "            <td width=218 valign=top style=\"width:163.65pt;border-top:none;border-left:  none;border-bottom:solid windowtext 1.0pt;border-right:solid windowtext 1.0pt;  padding:0in 5.4pt 0in 5.4pt\">\n",
       "                <p class=MsoNoSpacing>\n",
       "                    <span style=\"font-size:8.0pt;font-family:'Courier New'\">\n",
       "                        1\n",
       "                    </span>\n",
       "                </p>\n",
       "            </td>\n",
       "        </tr>\n",
       "        <tr>\n",
       "            <td width=175 valign=top style=\"width:131.05pt;border:solid windowtext 1.0pt;  border-top:none;padding:0in 5.4pt 0in 5.4pt\">\n",
       "                <p class=MsoNoSpacing>\n",
       "                    <span style=\"font-size:8.0pt;font-family:'Courier New';  \">00005e</span>\n",
       "                </p>\n",
       "            </td>\n",
       "\n",
       "            <td width=238 valign=top style=\"width:178.7pt;border-top:none;border-left:  none;border-bottom:solid windowtext 1.0pt;border-right:solid windowtext 1.0pt;  padding:0in 5.4pt 0in 5.4pt\">\n",
       "                <p class=MsoNoSpacing>\n",
       "                    <span style=\"font-size:8.0pt;font-family:'Courier New';background:#0080ff;color:#ffffff\">\n",
       "                        CPU Mhz\n",
       "                    </span>\n",
       "                </p>\n",
       "            </td>\n",
       "\n",
       "            <td width=218 valign=top style=\"width:163.65pt;border-top:none;border-left:  none;border-bottom:solid windowtext 1.0pt;border-right:solid windowtext 1.0pt;  padding:0in 5.4pt 0in 5.4pt\">\n",
       "                <p class=MsoNoSpacing>\n",
       "                    <span style=\"font-size:8.0pt;font-family:'Courier New'\">\n",
       "                        2660\n",
       "                    </span>\n",
       "                </p>\n",
       "            </td>\n",
       "        </tr>\n",
       "        <tr>\n",
       "            <td width=175 valign=top style=\"width:131.05pt;border:solid windowtext 1.0pt;  border-top:none;padding:0in 5.4pt 0in 5.4pt\">\n",
       "                <p class=MsoNoSpacing>\n",
       "                    <span style=\"font-size:8.0pt;font-family:'Courier New';  \">000062</span>\n",
       "                </p>\n",
       "            </td>\n",
       "\n",
       "            <td width=238 valign=top style=\"width:178.7pt;border-top:none;border-left:  none;border-bottom:solid windowtext 1.0pt;border-right:solid windowtext 1.0pt;  padding:0in 5.4pt 0in 5.4pt\">\n",
       "                <p class=MsoNoSpacing>\n",
       "                    <span style=\"font-size:8.0pt;font-family:'Courier New';background:#800000;color:#ffffff\">\n",
       "                        Total Memory (MB)\n",
       "                    </span>\n",
       "                </p>\n",
       "            </td>\n",
       "\n",
       "            <td width=218 valign=top style=\"width:163.65pt;border-top:none;border-left:  none;border-bottom:solid windowtext 1.0pt;border-right:solid windowtext 1.0pt;  padding:0in 5.4pt 0in 5.4pt\">\n",
       "                <p class=MsoNoSpacing>\n",
       "                    <span style=\"font-size:8.0pt;font-family:'Courier New'\">\n",
       "                        1988\n",
       "                    </span>\n",
       "                </p>\n",
       "            </td>\n",
       "        </tr>\n",
       "        <tr>\n",
       "            <td width=175 valign=top style=\"width:131.05pt;border:solid windowtext 1.0pt;  border-top:none;padding:0in 5.4pt 0in 5.4pt\">\n",
       "                <p class=MsoNoSpacing>\n",
       "                    <span style=\"font-size:8.0pt;font-family:'Courier New';  \">000066</span>\n",
       "                </p>\n",
       "            </td>\n",
       "\n",
       "            <td width=238 valign=top style=\"width:178.7pt;border-top:none;border-left:  none;border-bottom:solid windowtext 1.0pt;border-right:solid windowtext 1.0pt;  padding:0in 5.4pt 0in 5.4pt\">\n",
       "                <p class=MsoNoSpacing>\n",
       "                    <span style=\"font-size:8.0pt;font-family:'Courier New';background:#808000;color:#ffffff\">\n",
       "                        Compromised System Kernel\n",
       "                    </span>\n",
       "                </p>\n",
       "            </td>\n",
       "\n",
       "            <td width=218 valign=top style=\"width:163.65pt;border-top:none;border-left:  none;border-bottom:solid windowtext 1.0pt;border-right:solid windowtext 1.0pt;  padding:0in 5.4pt 0in 5.4pt\">\n",
       "                <p class=MsoNoSpacing>\n",
       "                    <span style=\"font-size:8.0pt;font-family:'Courier New'\">\n",
       "                        Linux 3.13.0-93-generic\n",
       "                    </span>\n",
       "                </p>\n",
       "            </td>\n",
       "        </tr>\n",
       "        <tr>\n",
       "            <td width=175 valign=top style=\"width:131.05pt;border:solid windowtext 1.0pt;  border-top:none;padding:0in 5.4pt 0in 5.4pt\">\n",
       "                <p class=MsoNoSpacing>\n",
       "                    <span style=\"font-size:8.0pt;font-family:'Courier New';  \">00007e</span>\n",
       "                </p>\n",
       "            </td>\n",
       "\n",
       "            <td width=238 valign=top style=\"width:178.7pt;border-top:none;border-left:  none;border-bottom:solid windowtext 1.0pt;border-right:solid windowtext 1.0pt;  padding:0in 5.4pt 0in 5.4pt\">\n",
       "                <p class=MsoNoSpacing>\n",
       "                    <span style=\"font-size:8.0pt;font-family:'Courier New';background:#80ff00;color:#000000\">\n",
       "                        Possible Version\n",
       "                    </span>\n",
       "                </p>\n",
       "            </td>\n",
       "\n",
       "            <td width=218 valign=top style=\"width:163.65pt;border-top:none;border-left:  none;border-bottom:solid windowtext 1.0pt;border-right:solid windowtext 1.0pt;  padding:0in 5.4pt 0in 5.4pt\">\n",
       "                <p class=MsoNoSpacing>\n",
       "                    <span style=\"font-size:8.0pt;font-family:'Courier New'\">\n",
       "                        1.0.0\n",
       "                    </span>\n",
       "                </p>\n",
       "            </td>\n",
       "        </tr>\n",
       "\n",
       "    </table>\n",
       "</div>\n",
       "</body>\n",
       "</html>"
      ],
      "text/plain": [
       "\n",
       "<html>\n",
       "<head>\n",
       "<meta http-equiv=Content-Type content=\"text/html; charset=windows-1252\">\n",
       "<meta name=Generator content=\"Microsoft Word 14 (filtered)\">\n",
       "<style>\n",
       "<!--\n",
       " /* Font Definitions */\n",
       " @font-face\n",
       "\t{font-family:Courier;\n",
       "\tpanose-1:2 7 4 9 2 2 5 2 4 4;}\n",
       "@font-face\n",
       "\t{font-family:\"Cambria Math\";\n",
       "\tpanose-1:2 4 5 3 5 4 6 3 2 4;}\n",
       "@font-face\n",
       "\t{font-family:Calibri;\n",
       "\tpanose-1:2 15 5 2 2 2 4 3 2 4;}\n",
       " /* Style Definitions */\n",
       " p.MsoNormal, li.MsoNormal, div.MsoNormal\n",
       "\t{margin:0in;\n",
       "\tmargin-bottom:.0001pt;\n",
       "\tfont-size:11.0pt;\n",
       "\tfont-family:\"Times New Roman\",\"serif\";}\n",
       "h1\n",
       "\t{mso-style-link:\"Heading 1 Char\";\n",
       "\tmargin:0in;\n",
       "\tmargin-bottom:.0001pt;\n",
       "\tpage-break-after:avoid;\n",
       "\tfont-size:16.0pt;\n",
       "\tfont-family:\"Calibri\",\"sans-serif\";\n",
       "\tcolor:#943634;}\n",
       "h3\n",
       "\t{mso-style-link:\"Heading 3 Char\";\n",
       "\tmargin-top:10.0pt;\n",
       "\tmargin-right:0in;\n",
       "\tmargin-bottom:0in;\n",
       "\tmargin-left:0in;\n",
       "\tmargin-bottom:.0001pt;\n",
       "\tpage-break-after:avoid;\n",
       "\tfont-size:11.0pt;\n",
       "\tfont-family:\"Times New Roman\",\"serif\";}\n",
       "p.MsoNoSpacing, li.MsoNoSpacing, div.MsoNoSpacing\n",
       "\t{mso-style-link:\"No Spacing Char\";\n",
       "\tmargin:0in;\n",
       "\tmargin-bottom:.0001pt;\n",
       "\tfont-size:11.0pt;\n",
       "\tfont-family:\"Calibri\",\"sans-serif\";}\n",
       "span.Heading1Char\n",
       "\t{mso-style-name:\"Heading 1 Char\";\n",
       "\tmso-style-link:\"Heading 1\";\n",
       "\tcolor:#943634;\n",
       "\tfont-weight:bold;}\n",
       "span.Heading3Char\n",
       "\t{mso-style-name:\"Heading 3 Char\";\n",
       "\tmso-style-link:\"Heading 3\";\n",
       "\tfont-family:\"Times New Roman\",\"serif\";\n",
       "\tfont-weight:bold;}\n",
       "span.NoSpacingChar\n",
       "\t{mso-style-name:\"No Spacing Char\";\n",
       "\tmso-style-link:\"No Spacing\";\n",
       "\tfont-family:\"Calibri\",\"sans-serif\";}\n",
       ".MsoChpDefault\n",
       "\t{font-family:\"Calibri\",\"sans-serif\";}\n",
       ".MsoPapDefault\n",
       "\t{margin-bottom:10.0pt;\n",
       "\tline-height:115%;}\n",
       "@page WordSection1\n",
       "\t{size:8.5in 11.0in;\n",
       "\tmargin:1.0in 1.0in 1.0in 1.0in;}\n",
       "div.WordSection1\n",
       "\t{page:WordSection1;}\n",
       "-->\n",
       "</style>\n",
       "</head>\n",
       "<body lang=EN-US>\n",
       "<div class=WordSection1>\n",
       "<p class=MsoNormal style='background:#FFFFFF'><span style='font-size:8.0pt;\n",
       "font-family:\"Courier New\"'>&nbsp;offset&nbsp;|&nbsp;&nbsp;0&nbsp;&nbsp;1&nbsp;&nbsp;2&nbsp;&nbsp;3&nbsp;&nbsp;4&nbsp;&nbsp;5&nbsp;&nbsp;6&nbsp;&nbsp;7&nbsp;&nbsp;8&nbsp;&nbsp;9&nbsp;&nbsp;a&nbsp;&nbsp;b&nbsp;&nbsp;c&nbsp;&nbsp;d&nbsp;&nbsp;e&nbsp;&nbsp;f&nbsp;|&nbsp;0123456789abcdef</span></p>\n",
       "<p class=MsoNormal style='background:#FFFFFF'><span style='font-size:8.0pt;\n",
       "font-family:\"Courier New\"'>&nbsp;------ |  -- -- -- -- -- -- -- -- -- -- -- -- -- -- -- --  |  ----------------</span></p>\n",
       "\n",
       "    <p class=MsoNormal style=\"background:#FFFFFF\">\n",
       "        <span style=\"font-size:8.0pt;font-family:'Courier New'\">\n",
       "            &nbsp;000000&nbsp;|&nbsp;01&nbsp;00&nbsp;00&nbsp;00&nbsp;7D&nbsp;00&nbsp;00&nbsp;00&nbsp;00&nbsp;<span style=\"background:#00ff00;color:#000000\">F4&nbsp;01&nbsp;</span><span style=\"background:#0000ff;color:#ffffff\">68&nbsp;65&nbsp;6C&nbsp;6C&nbsp;6F</span>&nbsp;|&nbsp;....}....<span style=\"background:#00ff00;color:#000000\">..</span><span style=\"background:#0000ff;color:#ffffff\">hello</span>\n",
       "        </span>\n",
       "    </p>\n",
       "    <p class=MsoNormal style=\"background:#FFFFFF\">\n",
       "        <span style=\"font-size:8.0pt;font-family:'Courier New'\">\n",
       "            &nbsp;000010&nbsp;|&nbsp;<span style=\"background:#00ffff;color:#000000\">02&nbsp;00&nbsp;</span><span style=\"background:#ff0000;color:#ffffff\">77&nbsp;6F&nbsp;72&nbsp;6C&nbsp;64&nbsp;</span><span style=\"background:#ffff00;color:#000000\">E8&nbsp;03&nbsp;</span><span style=\"background:#ff00ff;color:#ffffff\">01&nbsp;FA&nbsp;FF&nbsp;59&nbsp;4F&nbsp;</span>00&nbsp;00&nbsp;|&nbsp;<span style=\"background:#00ffff;color:#000000\">..</span><span style=\"background:#ff0000;color:#ffffff\">world</span><span style=\"background:#ffff00;color:#000000\">..</span><span style=\"background:#ff00ff;color:#ffffff\">...YO</span>..\n",
       "        </span>\n",
       "    </p>\n",
       "    <p class=MsoNormal style=\"background:#FFFFFF\">\n",
       "        <span style=\"font-size:8.0pt;font-family:'Courier New'\">\n",
       "            &nbsp;000020&nbsp;|&nbsp;00&nbsp;00&nbsp;00&nbsp;00&nbsp;00&nbsp;00&nbsp;00&nbsp;00&nbsp;00&nbsp;00&nbsp;00&nbsp;01&nbsp;01&nbsp;00&nbsp;00&nbsp;00&nbsp;|&nbsp;................\n",
       "        </span>\n",
       "    </p>\n",
       "    <p class=MsoNormal style=\"background:#FFFFFF\">\n",
       "        <span style=\"font-size:8.0pt;font-family:'Courier New'\">\n",
       "            &nbsp;000030&nbsp;|&nbsp;00&nbsp;01&nbsp;00&nbsp;00&nbsp;00&nbsp;<span style=\"background:#008000;color:#ffffff\">C0&nbsp;A8&nbsp;01&nbsp;0D&nbsp;</span><span style=\"background:#000080;color:#ffffff\">C0&nbsp;A8&nbsp;01&nbsp;0D&nbsp;C0&nbsp;A8&nbsp;01</span>&nbsp;|&nbsp;.....<span style=\"background:#008000;color:#ffffff\">....</span><span style=\"background:#000080;color:#ffffff\">.......</span>\n",
       "        </span>\n",
       "    </p>\n",
       "    <p class=MsoNormal style=\"background:#FFFFFF\">\n",
       "        <span style=\"font-size:8.0pt;font-family:'Courier New'\">\n",
       "            &nbsp;000040&nbsp;|&nbsp;<span style=\"background:#000080;color:#ffffff\">0D&nbsp;C0&nbsp;A8&nbsp;01&nbsp;0D&nbsp;C0&nbsp;A8&nbsp;01&nbsp;0D&nbsp;</span>FF&nbsp;FF&nbsp;01&nbsp;00&nbsp;00&nbsp;00&nbsp;00&nbsp;|&nbsp;<span style=\"background:#000080;color:#ffffff\">.........</span>.......\n",
       "        </span>\n",
       "    </p>\n",
       "    <p class=MsoNormal style=\"background:#FFFFFF\">\n",
       "        <span style=\"font-size:8.0pt;font-family:'Courier New'\">\n",
       "            &nbsp;000050&nbsp;|&nbsp;00&nbsp;<span style=\"background:#008080;color:#ffffff\">66&nbsp;6F&nbsp;6F&nbsp;20&nbsp;62&nbsp;61&nbsp;72&nbsp;21&nbsp;00&nbsp;</span><span style=\"background:#00ff80;color:#000000\">01&nbsp;00&nbsp;00&nbsp;00&nbsp;</span><span style=\"background:#0080ff;color:#ffffff\">64&nbsp;0A</span>&nbsp;|&nbsp;.<span style=\"background:#008080;color:#ffffff\">foo.bar!.</span><span style=\"background:#00ff80;color:#000000\">....</span><span style=\"background:#0080ff;color:#ffffff\">d.</span>\n",
       "        </span>\n",
       "    </p>\n",
       "    <p class=MsoNormal style=\"background:#FFFFFF\">\n",
       "        <span style=\"font-size:8.0pt;font-family:'Courier New'\">\n",
       "            &nbsp;000060&nbsp;|&nbsp;<span style=\"background:#0080ff;color:#ffffff\">00&nbsp;00&nbsp;</span><span style=\"background:#800000;color:#ffffff\">C4&nbsp;07&nbsp;00&nbsp;00&nbsp;</span><span style=\"background:#808000;color:#ffffff\">4C&nbsp;69&nbsp;6E&nbsp;75&nbsp;78&nbsp;20&nbsp;33&nbsp;2E&nbsp;31&nbsp;33</span>&nbsp;|&nbsp;<span style=\"background:#0080ff;color:#ffffff\">..</span><span style=\"background:#800000;color:#ffffff\">....</span><span style=\"background:#808000;color:#ffffff\">Linux.3.13</span>\n",
       "        </span>\n",
       "    </p>\n",
       "    <p class=MsoNormal style=\"background:#FFFFFF\">\n",
       "        <span style=\"font-size:8.0pt;font-family:'Courier New'\">\n",
       "            &nbsp;000070&nbsp;|&nbsp;<span style=\"background:#808000;color:#ffffff\">2E&nbsp;30&nbsp;2D&nbsp;39&nbsp;33&nbsp;2D&nbsp;67&nbsp;65&nbsp;6E&nbsp;65&nbsp;72&nbsp;69&nbsp;63&nbsp;00&nbsp;</span><span style=\"background:#80ff00;color:#000000\">31&nbsp;2E</span>&nbsp;|&nbsp;<span style=\"background:#808000;color:#ffffff\">.0-93-generic.</span><span style=\"background:#80ff00;color:#000000\">1.</span>\n",
       "        </span>\n",
       "    </p>\n",
       "    <p class=MsoNormal style=\"background:#FFFFFF\">\n",
       "        <span style=\"font-size:8.0pt;font-family:'Courier New'\">\n",
       "            &nbsp;000080&nbsp;|&nbsp;<span style=\"background:#80ff00;color:#000000\">30&nbsp;2E&nbsp;30&nbsp;00&nbsp;</span>&nbsp;&nbsp;&nbsp;&nbsp;&nbsp;&nbsp;&nbsp;&nbsp;&nbsp;&nbsp;&nbsp;&nbsp;&nbsp;&nbsp;&nbsp;&nbsp;&nbsp;&nbsp;&nbsp;&nbsp;&nbsp;&nbsp;&nbsp;&nbsp;&nbsp;&nbsp;&nbsp;&nbsp;&nbsp;&nbsp;&nbsp;&nbsp;&nbsp;&nbsp;&nbsp;&nbsp;|&nbsp;<span style=\"background:#80ff00;color:#000000\">0.0.</span>&nbsp;&nbsp;&nbsp;&nbsp;&nbsp;&nbsp;&nbsp;&nbsp;&nbsp;&nbsp;&nbsp;&nbsp;\n",
       "        </span>\n",
       "    </p>\n",
       "\n",
       "<p class=MsoNormal>&nbsp;</p>\n",
       "\n",
       "    <table class=MsoNormalTable border=1 cellspacing=0 cellpadding=0\n",
       "     style='margin-left:5.4pt;border-collapse:collapse;border:none'>\n",
       "     <tr>\n",
       "      <td width=175 valign=top style='width:131.05pt;border:solid windowtext 1.0pt;\n",
       "      background:#244061;padding:0in 5.4pt 0in 5.4pt'>\n",
       "      <p class=MsoNoSpacing align=center style='text-align:center'><b><span\n",
       "      style='font-size:9.0pt;font-family:\"Times New Roman\",\"serif\";color:white'>Offset</span></b></p>\n",
       "      </td>\n",
       "      <td width=238 valign=top style='width:178.7pt;border:solid windowtext 1.0pt;\n",
       "      border-left:none;background:#244061;padding:0in 5.4pt 0in 5.4pt'>\n",
       "      <p class=MsoNoSpacing align=center style='text-align:center'><b><span\n",
       "      style='font-size:9.0pt;font-family:\"Times New Roman\",\"serif\";color:white'>Name</span></b></p>\n",
       "      </td>\n",
       "      <td width=218 valign=top style='width:163.65pt;border:solid windowtext 1.0pt;\n",
       "      border-left:none;background:#244061;padding:0in 5.4pt 0in 5.4pt'>\n",
       "      <p class=MsoNoSpacing align=center style='text-align:center'><b><span\n",
       "      style='font-size:9.0pt;font-family:\"Times New Roman\",\"serif\";color:white'>Value</span></b></p>\n",
       "      </td>\n",
       "     </tr>\n",
       "\n",
       "        <tr>\n",
       "            <td width=175 valign=top style=\"width:131.05pt;border:solid windowtext 1.0pt;  border-top:none;padding:0in 5.4pt 0in 5.4pt\">\n",
       "                <p class=MsoNoSpacing>\n",
       "                    <span style=\"font-size:8.0pt;font-family:'Courier New';  \">000009</span>\n",
       "                </p>\n",
       "            </td>\n",
       "\n",
       "            <td width=238 valign=top style=\"width:178.7pt;border-top:none;border-left:  none;border-bottom:solid windowtext 1.0pt;border-right:solid windowtext 1.0pt;  padding:0in 5.4pt 0in 5.4pt\">\n",
       "                <p class=MsoNoSpacing>\n",
       "                    <span style=\"font-size:8.0pt;font-family:'Courier New';background:#00ff00;color:#000000\">\n",
       "                        Payloads[0] / Hardcoded Value\n",
       "                    </span>\n",
       "                </p>\n",
       "            </td>\n",
       "\n",
       "            <td width=218 valign=top style=\"width:163.65pt;border-top:none;border-left:  none;border-bottom:solid windowtext 1.0pt;border-right:solid windowtext 1.0pt;  padding:0in 5.4pt 0in 5.4pt\">\n",
       "                <p class=MsoNoSpacing>\n",
       "                    <span style=\"font-size:8.0pt;font-family:'Courier New'\">\n",
       "                        500\n",
       "                    </span>\n",
       "                </p>\n",
       "            </td>\n",
       "        </tr>\n",
       "        <tr>\n",
       "            <td width=175 valign=top style=\"width:131.05pt;border:solid windowtext 1.0pt;  border-top:none;padding:0in 5.4pt 0in 5.4pt\">\n",
       "                <p class=MsoNoSpacing>\n",
       "                    <span style=\"font-size:8.0pt;font-family:'Courier New';  \">00000b</span>\n",
       "                </p>\n",
       "            </td>\n",
       "\n",
       "            <td width=238 valign=top style=\"width:178.7pt;border-top:none;border-left:  none;border-bottom:solid windowtext 1.0pt;border-right:solid windowtext 1.0pt;  padding:0in 5.4pt 0in 5.4pt\">\n",
       "                <p class=MsoNoSpacing>\n",
       "                    <span style=\"font-size:8.0pt;font-family:'Courier New';background:#0000ff;color:#ffffff\">\n",
       "                        Payloads[0] / Data\n",
       "                    </span>\n",
       "                </p>\n",
       "            </td>\n",
       "\n",
       "            <td width=218 valign=top style=\"width:163.65pt;border-top:none;border-left:  none;border-bottom:solid windowtext 1.0pt;border-right:solid windowtext 1.0pt;  padding:0in 5.4pt 0in 5.4pt\">\n",
       "                <p class=MsoNoSpacing>\n",
       "                    <span style=\"font-size:8.0pt;font-family:'Courier New'\">\n",
       "                        hello\n",
       "                    </span>\n",
       "                </p>\n",
       "            </td>\n",
       "        </tr>\n",
       "        <tr>\n",
       "            <td width=175 valign=top style=\"width:131.05pt;border:solid windowtext 1.0pt;  border-top:none;padding:0in 5.4pt 0in 5.4pt\">\n",
       "                <p class=MsoNoSpacing>\n",
       "                    <span style=\"font-size:8.0pt;font-family:'Courier New';  \">000010</span>\n",
       "                </p>\n",
       "            </td>\n",
       "\n",
       "            <td width=238 valign=top style=\"width:178.7pt;border-top:none;border-left:  none;border-bottom:solid windowtext 1.0pt;border-right:solid windowtext 1.0pt;  padding:0in 5.4pt 0in 5.4pt\">\n",
       "                <p class=MsoNoSpacing>\n",
       "                    <span style=\"font-size:8.0pt;font-family:'Courier New';background:#00ffff;color:#000000\">\n",
       "                        Payloads[1] / Hardcoded Value\n",
       "                    </span>\n",
       "                </p>\n",
       "            </td>\n",
       "\n",
       "            <td width=218 valign=top style=\"width:163.65pt;border-top:none;border-left:  none;border-bottom:solid windowtext 1.0pt;border-right:solid windowtext 1.0pt;  padding:0in 5.4pt 0in 5.4pt\">\n",
       "                <p class=MsoNoSpacing>\n",
       "                    <span style=\"font-size:8.0pt;font-family:'Courier New'\">\n",
       "                        2\n",
       "                    </span>\n",
       "                </p>\n",
       "            </td>\n",
       "        </tr>\n",
       "        <tr>\n",
       "            <td width=175 valign=top style=\"width:131.05pt;border:solid windowtext 1.0pt;  border-top:none;padding:0in 5.4pt 0in 5.4pt\">\n",
       "                <p class=MsoNoSpacing>\n",
       "                    <span style=\"font-size:8.0pt;font-family:'Courier New';  \">000012</span>\n",
       "                </p>\n",
       "            </td>\n",
       "\n",
       "            <td width=238 valign=top style=\"width:178.7pt;border-top:none;border-left:  none;border-bottom:solid windowtext 1.0pt;border-right:solid windowtext 1.0pt;  padding:0in 5.4pt 0in 5.4pt\">\n",
       "                <p class=MsoNoSpacing>\n",
       "                    <span style=\"font-size:8.0pt;font-family:'Courier New';background:#ff0000;color:#ffffff\">\n",
       "                        Payloads[1] / Data\n",
       "                    </span>\n",
       "                </p>\n",
       "            </td>\n",
       "\n",
       "            <td width=218 valign=top style=\"width:163.65pt;border-top:none;border-left:  none;border-bottom:solid windowtext 1.0pt;border-right:solid windowtext 1.0pt;  padding:0in 5.4pt 0in 5.4pt\">\n",
       "                <p class=MsoNoSpacing>\n",
       "                    <span style=\"font-size:8.0pt;font-family:'Courier New'\">\n",
       "                        world\n",
       "                    </span>\n",
       "                </p>\n",
       "            </td>\n",
       "        </tr>\n",
       "        <tr>\n",
       "            <td width=175 valign=top style=\"width:131.05pt;border:solid windowtext 1.0pt;  border-top:none;padding:0in 5.4pt 0in 5.4pt\">\n",
       "                <p class=MsoNoSpacing>\n",
       "                    <span style=\"font-size:8.0pt;font-family:'Courier New';  \">000017</span>\n",
       "                </p>\n",
       "            </td>\n",
       "\n",
       "            <td width=238 valign=top style=\"width:178.7pt;border-top:none;border-left:  none;border-bottom:solid windowtext 1.0pt;border-right:solid windowtext 1.0pt;  padding:0in 5.4pt 0in 5.4pt\">\n",
       "                <p class=MsoNoSpacing>\n",
       "                    <span style=\"font-size:8.0pt;font-family:'Courier New';background:#ffff00;color:#000000\">\n",
       "                        Payloads[2] / Hardcoded Value\n",
       "                    </span>\n",
       "                </p>\n",
       "            </td>\n",
       "\n",
       "            <td width=218 valign=top style=\"width:163.65pt;border-top:none;border-left:  none;border-bottom:solid windowtext 1.0pt;border-right:solid windowtext 1.0pt;  padding:0in 5.4pt 0in 5.4pt\">\n",
       "                <p class=MsoNoSpacing>\n",
       "                    <span style=\"font-size:8.0pt;font-family:'Courier New'\">\n",
       "                        1000\n",
       "                    </span>\n",
       "                </p>\n",
       "            </td>\n",
       "        </tr>\n",
       "        <tr>\n",
       "            <td width=175 valign=top style=\"width:131.05pt;border:solid windowtext 1.0pt;  border-top:none;padding:0in 5.4pt 0in 5.4pt\">\n",
       "                <p class=MsoNoSpacing>\n",
       "                    <span style=\"font-size:8.0pt;font-family:'Courier New';  \">000019</span>\n",
       "                </p>\n",
       "            </td>\n",
       "\n",
       "            <td width=238 valign=top style=\"width:178.7pt;border-top:none;border-left:  none;border-bottom:solid windowtext 1.0pt;border-right:solid windowtext 1.0pt;  padding:0in 5.4pt 0in 5.4pt\">\n",
       "                <p class=MsoNoSpacing>\n",
       "                    <span style=\"font-size:8.0pt;font-family:'Courier New';background:#ff00ff;color:#ffffff\">\n",
       "                        Payloads[2] / Data\n",
       "                    </span>\n",
       "                </p>\n",
       "            </td>\n",
       "\n",
       "            <td width=218 valign=top style=\"width:163.65pt;border-top:none;border-left:  none;border-bottom:solid windowtext 1.0pt;border-right:solid windowtext 1.0pt;  padding:0in 5.4pt 0in 5.4pt\">\n",
       "                <p class=MsoNoSpacing>\n",
       "                    <span style=\"font-size:8.0pt;font-family:'Courier New'\">\n",
       "                        \\x01\\xfa\\xffYO\n",
       "                    </span>\n",
       "                </p>\n",
       "            </td>\n",
       "        </tr>\n",
       "        <tr>\n",
       "            <td width=175 valign=top style=\"width:131.05pt;border:solid windowtext 1.0pt;  border-top:none;padding:0in 5.4pt 0in 5.4pt\">\n",
       "                <p class=MsoNoSpacing>\n",
       "                    <span style=\"font-size:8.0pt;font-family:'Courier New';  \">000035</span>\n",
       "                </p>\n",
       "            </td>\n",
       "\n",
       "            <td width=238 valign=top style=\"width:178.7pt;border-top:none;border-left:  none;border-bottom:solid windowtext 1.0pt;border-right:solid windowtext 1.0pt;  padding:0in 5.4pt 0in 5.4pt\">\n",
       "                <p class=MsoNoSpacing>\n",
       "                    <span style=\"font-size:8.0pt;font-family:'Courier New';background:#008000;color:#ffffff\">\n",
       "                        Compromised Host IP\n",
       "                    </span>\n",
       "                </p>\n",
       "            </td>\n",
       "\n",
       "            <td width=218 valign=top style=\"width:163.65pt;border-top:none;border-left:  none;border-bottom:solid windowtext 1.0pt;border-right:solid windowtext 1.0pt;  padding:0in 5.4pt 0in 5.4pt\">\n",
       "                <p class=MsoNoSpacing>\n",
       "                    <span style=\"font-size:8.0pt;font-family:'Courier New'\">\n",
       "                        192.168.1.13\n",
       "                    </span>\n",
       "                </p>\n",
       "            </td>\n",
       "        </tr>\n",
       "        <tr>\n",
       "            <td width=175 valign=top style=\"width:131.05pt;border:solid windowtext 1.0pt;  border-top:none;padding:0in 5.4pt 0in 5.4pt\">\n",
       "                <p class=MsoNoSpacing>\n",
       "                    <span style=\"font-size:8.0pt;font-family:'Courier New';  \">000039</span>\n",
       "                </p>\n",
       "            </td>\n",
       "\n",
       "            <td width=238 valign=top style=\"width:178.7pt;border-top:none;border-left:  none;border-bottom:solid windowtext 1.0pt;border-right:solid windowtext 1.0pt;  padding:0in 5.4pt 0in 5.4pt\">\n",
       "                <p class=MsoNoSpacing>\n",
       "                    <span style=\"font-size:8.0pt;font-family:'Courier New';background:#000080;color:#ffffff\">\n",
       "                        Unknown IP Addresses\n",
       "                    </span>\n",
       "                </p>\n",
       "            </td>\n",
       "\n",
       "            <td width=218 valign=top style=\"width:163.65pt;border-top:none;border-left:  none;border-bottom:solid windowtext 1.0pt;border-right:solid windowtext 1.0pt;  padding:0in 5.4pt 0in 5.4pt\">\n",
       "                <p class=MsoNoSpacing>\n",
       "                    <span style=\"font-size:8.0pt;font-family:'Courier New'\">\n",
       "                        - 192.168.1.13<br/>- 192.168.1.13<br/>- 192.168.1.13<br/>- 192.168.1.13\n",
       "                    </span>\n",
       "                </p>\n",
       "            </td>\n",
       "        </tr>\n",
       "        <tr>\n",
       "            <td width=175 valign=top style=\"width:131.05pt;border:solid windowtext 1.0pt;  border-top:none;padding:0in 5.4pt 0in 5.4pt\">\n",
       "                <p class=MsoNoSpacing>\n",
       "                    <span style=\"font-size:8.0pt;font-family:'Courier New';  \">000051</span>\n",
       "                </p>\n",
       "            </td>\n",
       "\n",
       "            <td width=238 valign=top style=\"width:178.7pt;border-top:none;border-left:  none;border-bottom:solid windowtext 1.0pt;border-right:solid windowtext 1.0pt;  padding:0in 5.4pt 0in 5.4pt\">\n",
       "                <p class=MsoNoSpacing>\n",
       "                    <span style=\"font-size:8.0pt;font-family:'Courier New';background:#008080;color:#ffffff\">\n",
       "                        Unknown Indicator\n",
       "                    </span>\n",
       "                </p>\n",
       "            </td>\n",
       "\n",
       "            <td width=218 valign=top style=\"width:163.65pt;border-top:none;border-left:  none;border-bottom:solid windowtext 1.0pt;border-right:solid windowtext 1.0pt;  padding:0in 5.4pt 0in 5.4pt\">\n",
       "                <p class=MsoNoSpacing>\n",
       "                    <span style=\"font-size:8.0pt;font-family:'Courier New'\">\n",
       "                        foo bar!\n",
       "                    </span>\n",
       "                </p>\n",
       "            </td>\n",
       "        </tr>\n",
       "        <tr>\n",
       "            <td width=175 valign=top style=\"width:131.05pt;border:solid windowtext 1.0pt;  border-top:none;padding:0in 5.4pt 0in 5.4pt\">\n",
       "                <p class=MsoNoSpacing>\n",
       "                    <span style=\"font-size:8.0pt;font-family:'Courier New';  \">00005a</span>\n",
       "                </p>\n",
       "            </td>\n",
       "\n",
       "            <td width=238 valign=top style=\"width:178.7pt;border-top:none;border-left:  none;border-bottom:solid windowtext 1.0pt;border-right:solid windowtext 1.0pt;  padding:0in 5.4pt 0in 5.4pt\">\n",
       "                <p class=MsoNoSpacing>\n",
       "                    <span style=\"font-size:8.0pt;font-family:'Courier New';background:#00ff80;color:#000000\">\n",
       "                        Number of CPUs\n",
       "                    </span>\n",
       "                </p>\n",
       "            </td>\n",
       "\n",
       "            <td width=218 valign=top style=\"width:163.65pt;border-top:none;border-left:  none;border-bottom:solid windowtext 1.0pt;border-right:solid windowtext 1.0pt;  padding:0in 5.4pt 0in 5.4pt\">\n",
       "                <p class=MsoNoSpacing>\n",
       "                    <span style=\"font-size:8.0pt;font-family:'Courier New'\">\n",
       "                        1\n",
       "                    </span>\n",
       "                </p>\n",
       "            </td>\n",
       "        </tr>\n",
       "        <tr>\n",
       "            <td width=175 valign=top style=\"width:131.05pt;border:solid windowtext 1.0pt;  border-top:none;padding:0in 5.4pt 0in 5.4pt\">\n",
       "                <p class=MsoNoSpacing>\n",
       "                    <span style=\"font-size:8.0pt;font-family:'Courier New';  \">00005e</span>\n",
       "                </p>\n",
       "            </td>\n",
       "\n",
       "            <td width=238 valign=top style=\"width:178.7pt;border-top:none;border-left:  none;border-bottom:solid windowtext 1.0pt;border-right:solid windowtext 1.0pt;  padding:0in 5.4pt 0in 5.4pt\">\n",
       "                <p class=MsoNoSpacing>\n",
       "                    <span style=\"font-size:8.0pt;font-family:'Courier New';background:#0080ff;color:#ffffff\">\n",
       "                        CPU Mhz\n",
       "                    </span>\n",
       "                </p>\n",
       "            </td>\n",
       "\n",
       "            <td width=218 valign=top style=\"width:163.65pt;border-top:none;border-left:  none;border-bottom:solid windowtext 1.0pt;border-right:solid windowtext 1.0pt;  padding:0in 5.4pt 0in 5.4pt\">\n",
       "                <p class=MsoNoSpacing>\n",
       "                    <span style=\"font-size:8.0pt;font-family:'Courier New'\">\n",
       "                        2660\n",
       "                    </span>\n",
       "                </p>\n",
       "            </td>\n",
       "        </tr>\n",
       "        <tr>\n",
       "            <td width=175 valign=top style=\"width:131.05pt;border:solid windowtext 1.0pt;  border-top:none;padding:0in 5.4pt 0in 5.4pt\">\n",
       "                <p class=MsoNoSpacing>\n",
       "                    <span style=\"font-size:8.0pt;font-family:'Courier New';  \">000062</span>\n",
       "                </p>\n",
       "            </td>\n",
       "\n",
       "            <td width=238 valign=top style=\"width:178.7pt;border-top:none;border-left:  none;border-bottom:solid windowtext 1.0pt;border-right:solid windowtext 1.0pt;  padding:0in 5.4pt 0in 5.4pt\">\n",
       "                <p class=MsoNoSpacing>\n",
       "                    <span style=\"font-size:8.0pt;font-family:'Courier New';background:#800000;color:#ffffff\">\n",
       "                        Total Memory (MB)\n",
       "                    </span>\n",
       "                </p>\n",
       "            </td>\n",
       "\n",
       "            <td width=218 valign=top style=\"width:163.65pt;border-top:none;border-left:  none;border-bottom:solid windowtext 1.0pt;border-right:solid windowtext 1.0pt;  padding:0in 5.4pt 0in 5.4pt\">\n",
       "                <p class=MsoNoSpacing>\n",
       "                    <span style=\"font-size:8.0pt;font-family:'Courier New'\">\n",
       "                        1988\n",
       "                    </span>\n",
       "                </p>\n",
       "            </td>\n",
       "        </tr>\n",
       "        <tr>\n",
       "            <td width=175 valign=top style=\"width:131.05pt;border:solid windowtext 1.0pt;  border-top:none;padding:0in 5.4pt 0in 5.4pt\">\n",
       "                <p class=MsoNoSpacing>\n",
       "                    <span style=\"font-size:8.0pt;font-family:'Courier New';  \">000066</span>\n",
       "                </p>\n",
       "            </td>\n",
       "\n",
       "            <td width=238 valign=top style=\"width:178.7pt;border-top:none;border-left:  none;border-bottom:solid windowtext 1.0pt;border-right:solid windowtext 1.0pt;  padding:0in 5.4pt 0in 5.4pt\">\n",
       "                <p class=MsoNoSpacing>\n",
       "                    <span style=\"font-size:8.0pt;font-family:'Courier New';background:#808000;color:#ffffff\">\n",
       "                        Compromised System Kernel\n",
       "                    </span>\n",
       "                </p>\n",
       "            </td>\n",
       "\n",
       "            <td width=218 valign=top style=\"width:163.65pt;border-top:none;border-left:  none;border-bottom:solid windowtext 1.0pt;border-right:solid windowtext 1.0pt;  padding:0in 5.4pt 0in 5.4pt\">\n",
       "                <p class=MsoNoSpacing>\n",
       "                    <span style=\"font-size:8.0pt;font-family:'Courier New'\">\n",
       "                        Linux 3.13.0-93-generic\n",
       "                    </span>\n",
       "                </p>\n",
       "            </td>\n",
       "        </tr>\n",
       "        <tr>\n",
       "            <td width=175 valign=top style=\"width:131.05pt;border:solid windowtext 1.0pt;  border-top:none;padding:0in 5.4pt 0in 5.4pt\">\n",
       "                <p class=MsoNoSpacing>\n",
       "                    <span style=\"font-size:8.0pt;font-family:'Courier New';  \">00007e</span>\n",
       "                </p>\n",
       "            </td>\n",
       "\n",
       "            <td width=238 valign=top style=\"width:178.7pt;border-top:none;border-left:  none;border-bottom:solid windowtext 1.0pt;border-right:solid windowtext 1.0pt;  padding:0in 5.4pt 0in 5.4pt\">\n",
       "                <p class=MsoNoSpacing>\n",
       "                    <span style=\"font-size:8.0pt;font-family:'Courier New';background:#80ff00;color:#000000\">\n",
       "                        Possible Version\n",
       "                    </span>\n",
       "                </p>\n",
       "            </td>\n",
       "\n",
       "            <td width=218 valign=top style=\"width:163.65pt;border-top:none;border-left:  none;border-bottom:solid windowtext 1.0pt;border-right:solid windowtext 1.0pt;  padding:0in 5.4pt 0in 5.4pt\">\n",
       "                <p class=MsoNoSpacing>\n",
       "                    <span style=\"font-size:8.0pt;font-family:'Courier New'\">\n",
       "                        1.0.0\n",
       "                    </span>\n",
       "                </p>\n",
       "            </td>\n",
       "        </tr>\n",
       "\n",
       "    </table>\n",
       "</div>\n",
       "</body>\n",
       "</html>"
      ]
     },
     "execution_count": 0,
     "metadata": {},
     "output_type": "execute_result"
    }
   ],
   "source": [
    "EMBED_PAYLOAD = construct.Struct(\n",
    "    'Hardcoded Value' / construct.Int16ul,\n",
    "    'Data' / construct.Bytes(5)\n",
    ")\n",
    "\n",
    "PACKET = construct.Struct(\n",
    "        construct.Padding(0x9),\n",
    "        # construct.HexString is an adapter to format an integer into hex.\n",
    "        'Payloads' / EMBED_PAYLOAD[3],\n",
    "        construct.Padding(0x17),\n",
    "        # construct.IP4Address is a helper construct that converts 4 bytes into an ip address.\n",
    "        'Compromised Host IP' / construct.IP4Address,\n",
    "        'Unknown IP Addresses' / construct.IP4Address[4],\n",
    "        construct.Padding(8),\n",
    "        'Unknown Indicator' / construct.CString(),\n",
    "        'Number of CPUs' / construct.Int32ul,\n",
    "        'CPU Mhz' / construct.Int32ul,\n",
    "        'Total Memory (MB)' / construct.Int32ul,\n",
    "        'Compromised System Kernel' / construct.CString(),\n",
    "        'Possible Version' / construct.CString()\n",
    "    )\n",
    "\n",
    "data = (b'\\x01\\x00\\x00\\x00}\\x00\\x00\\x00\\x00\\xf4\\x01hello\\x02\\x00world\\xe8'\n",
    "        b'\\x03\\x01\\xFA\\xFFYO\\x00\\x00\\x00\\x00\\x00\\x00\\x00\\x00\\x00\\x00\\x00\\x00\\x00\\x01'\n",
    "        b'\\x01\\x00\\x00\\x00\\x00\\x01\\x00\\x00\\x00\\xc0\\xa8\\x01\\r\\xc0\\xa8\\x01\\r\\xc0'\n",
    "        b'\\xa8\\x01\\r\\xc0\\xa8\\x01\\r\\xc0\\xa8\\x01\\r\\xff\\xff\\x01\\x00\\x00\\x00\\x00\\x00'\n",
    "        b'foo bar!\\x00\\x01\\x00\\x00\\x00d\\n\\x00\\x00\\xc4\\x07\\x00\\x00'\n",
    "        b'Linux 3.13.0-93-generic\\x001.0.0\\x00')\n",
    "\n",
    "html_data = construct.html_hex(PACKET, data, depth=3)\n",
    "\n",
    "# (ignore this)\n",
    "from IPython.core.display import display, HTML\n",
    "display(HTML(html_data))"
   ]
  },
  {
   "cell_type": "markdown",
   "metadata": {},
   "source": [
    "## Building\n",
    "\n",
    "All constructs created can also work in reverse to build the data given a dictionary of the results by running the \"build()\" function with a given dictionary either created by scratch or from a previous parse."
   ]
  },
  {
   "cell_type": "code",
   "execution_count": 65,
   "metadata": {},
   "outputs": [
    {
     "data": {
      "text/plain": [
       "b'\\x12\\x04\\x00\\x00hello world\\x00T'"
      ]
     },
     "execution_count": 64,
     "metadata": {},
     "output_type": "execute_result"
    }
   ],
   "source": [
    "spec = construct.Struct(\n",
    "    'a' / construct.DWORD,\n",
    "    'b' / construct.CString(),\n",
    "    'c' / construct.Byte\n",
    ")\n",
    "\n",
    "spec.build({'a': 1042, 'b': b'hello world', 'c': 0x54})"
   ]
  },
  {
   "cell_type": "code",
   "execution_count": 66,
   "metadata": {},
   "outputs": [
    {
     "data": {
      "text/plain": [
       "b'\\x02\\x00\\x00\\x00how are you today?\\x00T'"
      ]
     },
     "execution_count": 65,
     "metadata": {},
     "output_type": "execute_result"
    }
   ],
   "source": [
    "results = spec.parse(b'\\x01\\x00\\x00\\x00hello world\\x00\\x54')\n",
    "\n",
    "results.a = 2\n",
    "results.b = b'how are you today?'\n",
    "\n",
    "spec.build(results)"
   ]
  },
  {
   "cell_type": "markdown",
   "metadata": {},
   "source": [
    "## Validation\n",
    "\n",
    "Data can be validated while parsing by supplying one of the many validating constructs (`Const`, `OneOf`, `NoneOf`, `Check`, `Regex`, etc)\n",
    "\n",
    "If the validation fails during parsing, a `ConstructError` will be raised."
   ]
  },
  {
   "cell_type": "code",
   "execution_count": 67,
   "metadata": {},
   "outputs": [
    {
     "name": "stdout",
     "output_type": "stream",
     "text": [
      "Invalid data: expected 'MZ' but parsed b'no'\n"
     ]
    }
   ],
   "source": [
    "spec = construct.Struct(\n",
    "    construct.Const('MZ'),\n",
    "    'a' / construct.Byte,\n",
    ")\n",
    "\n",
    "try:\n",
    "    results = spec.parse(b'nope\\x01')\n",
    "except construct.ConstructError as e:\n",
    "    print('Invalid data: {}'.format(e))"
   ]
  },
  {
   "cell_type": "code",
   "execution_count": 68,
   "metadata": {},
   "outputs": [
    {
     "name": "stdout",
     "output_type": "stream",
     "text": [
      "Invalid data: ('object failed validation', 2)\n"
     ]
    }
   ],
   "source": [
    "spec = construct.OneOf(construct.Byte, [1, 5, 7])\n",
    "\n",
    "try:\n",
    "    results = spec.parse(b'\\x02')\n",
    "except construct.ConstructError as e:\n",
    "    print('Invalid data: {}'.format(e))"
   ]
  },
  {
   "cell_type": "markdown",
   "metadata": {},
   "source": [
    "## Debugging\n",
    "\n",
    "You can the construct you are developing by sticking in a `Probe` element wherever you would like to see a print out of the currently parsed construct and data it is about to read in. You can optionally add a name as a parameter in order to tell the difference between multiple probes."
   ]
  },
  {
   "cell_type": "code",
   "execution_count": 69,
   "metadata": {},
   "outputs": [
    {
     "name": "stdout",
     "output_type": "stream",
     "text": [
      "================================================================================\nProbe before\npath is parsing, func is None\n0000   61 62 63 64 65 66                                                                                 abcdef\n\nContainer: \n    count = 6\n================================================================================\n================================================================================\nProbe after\npath is parsing, func is None\nEOF reached\nContainer: \n    count = 6\n    items = ListContainer: \n        97\n        98\n        99\n        100\n        101\n        102\n================================================================================\n"
     ]
    },
    {
     "data": {
      "text/plain": [
       "Container(count=6)(items=[97, 98, 99, 100, 101, 102])"
      ]
     },
     "execution_count": 68,
     "metadata": {},
     "output_type": "execute_result"
    }
   ],
   "source": [
    "spec = construct.Struct(\n",
    "    'count' / construct.Byte,\n",
    "    construct.Probe('before'),\n",
    "    'items' / construct.Byte[lambda ctx: ctx.count], \n",
    "    construct.Probe('after')\n",
    ")\n",
    "\n",
    "spec.parse(b'\\x06abcdef')"
   ]
  },
  {
   "cell_type": "markdown",
   "metadata": {},
   "source": [
    ""
   ]
  },
  {
   "cell_type": "markdown",
   "metadata": {},
   "source": [
    "Alternatively, you can attach a pdb-based full python debugger by wrapping your construct in `Debugger`.\n",
    "\n",
    "This will cause an interactive debugger pop up, letting you tweak around. When finished use \"q\" to quit the debugger prompt and resume execution.\n",
    "\n",
    "```bash\n",
    "spec = construct.Debugger(construct.Struct(\n",
    "    'a' / construct.Byte,\n",
    "    'b' / construct.Enum(construct.Byte, A=1, B=2, C=3)\n",
    "))\n",
    "spec.parse('\\x0A\\xFF')\n",
    "================================================================================\n",
    "Debugging exception of <Struct: None>:\n",
    "path is parsing\n",
    "   ...\n",
    "MappingError: no decoding mapping for 255\n",
    "    parsing -> b\n",
    "(you can set the value of 'self.retval', which will be returned)\n",
    "> c:\\python\\construct\\core.py(2713)_parse()\n",
    "-> raise e.__class__(\"%s\\n    %s\" % (e, path))\n",
    "(Pdb) >? context\n",
    "Container(a=10)\n",
    "(Pdb) >? stream\n",
    "<_io.BytesIO object at 0x0329CC00>\n",
    "(Pdb) >? stream.tell()\n",
    "2L\n",
    "(Pdb) >? stream.seek(1)\n",
    "1L\n",
    "(Pdb) >? stream.read(1)\n",
    "'\\xff'\n",
    "(Pdb) >? q\n",
    "```"
   ]
  },
  {
   "cell_type": "markdown",
   "metadata": {},
   "source": [
    "Finally, you can also force the parsing to fail at a certain point by adding a `Error` construct. This can be used as a sentinel that blows a whistle when a conditional branch goes the wrong way, or to raise an error explicitly the declarative way.\n",
    "\n",
    "*NOTE: You must catch \"ExplicitError\". \"ConstructError\" is not a base class.*"
   ]
  },
  {
   "cell_type": "code",
   "execution_count": 69,
   "metadata": {},
   "outputs": [
    {
     "name": "stdout",
     "output_type": "stream",
     "text": [
      "Error: Error field was activated during parsing\n"
     ]
    }
   ],
   "source": [
    "spec = construct.Struct(\n",
    "    'a' / construct.Int8sb,\n",
    "    'b' / construct.IfThenElse(\n",
    "        lambda ctx: ctx.a > 0,  # if\n",
    "        construct.Byte,         # then \n",
    "        construct.Error         # else\n",
    "    )\n",
    ")\n",
    "\n",
    "try:\n",
    "    spec.parse(b'\\xff\\x05')\n",
    "except construct.ExplicitError as e:    \n",
    "    print('Error: {}'.format(e))"
   ]
  }
 ],
 "metadata": {
  "kernelspec": {
   "display_name": "Python 2",
   "language": "python",
   "name": "python2"
  },
  "language_info": {
   "codemirror_mode": {
    "name": "ipython",
    "version": 2.0
   },
   "file_extension": ".py",
   "mimetype": "text/x-python",
   "name": "python",
   "nbconvert_exporter": "python",
   "pygments_lexer": "ipython2",
   "version": "2.7.10"
  }
 },
 "nbformat": 4,
 "nbformat_minor": 0
}